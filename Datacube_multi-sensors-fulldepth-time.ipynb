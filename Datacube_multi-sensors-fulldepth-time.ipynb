{
 "cells": [
  {
   "cell_type": "markdown",
   "metadata": {},
   "source": [
    "# Australian Geoscience Datacube\n",
    "## Feature Summary Examples"
   ]
  },
  {
   "cell_type": "markdown",
   "metadata": {},
   "source": [
    "The [Australian Geoscience Datacube](https://github.com/data-cube/agdc-v2) provides an integrated gridded data analysis environment for decades of analysis ready earth observation satellite and related data from multiple satellite and other acquisition systems.\n",
    "\n",
    "For instructions on using the Datacube on NCI, see: http://agdc-v2.readthedocs.io/en/develop/nci_usage.html\n",
    "\n",
    "For instructions on setting up your own instance, see: http://agdc-v2.readthedocs.io/en/develop/install.html\n",
    "\n",
    "This notebook touches briefly on some the implimented features of the Datacube module, and is only intended to deomstrat functionality rather than be a tutorial."
   ]
  },
  {
   "cell_type": "code",
   "execution_count": 1,
   "metadata": {
    "ExecuteTime": {
     "end_time": "2016-06-09T11:09:06.502514",
     "start_time": "2016-06-09T11:09:04.805211"
    },
    "collapsed": true
   },
   "outputs": [],
   "source": [
    "%matplotlib inline\n",
    "import datacube\n",
    "import ogr\n",
    "import xarray as xr\n",
    "from datacube.storage import masking\n",
    "import pandas\n"
   ]
  },
  {
   "cell_type": "markdown",
   "metadata": {},
   "source": [
    "If you have set up your config correctly, or are using the module on NCI, you should be able to make `Datacube` object that can connects to the configured datacube system."
   ]
  },
  {
   "cell_type": "code",
   "execution_count": 2,
   "metadata": {
    "ExecuteTime": {
     "end_time": "2016-06-09T11:09:07.599525",
     "start_time": "2016-06-09T11:09:07.553759"
    },
    "collapsed": false
   },
   "outputs": [
    {
     "data": {
      "text/plain": [
       "Datacube<index=Index<db=PostgresDb<engine=Engine(postgresql://lxl554@130.56.244.227:6432/datacube)>>>"
      ]
     },
     "execution_count": 2,
     "metadata": {},
     "output_type": "execute_result"
    }
   ],
   "source": [
    "dc = datacube.Datacube(app='dc-example')\n",
    "dc"
   ]
  },
  {
   "cell_type": "markdown",
   "metadata": {},
   "source": [
    "## Datacube products and measurements\n",
    "The Datacube provides pandas.DataFrame representations of the available products and measurements:"
   ]
  },
  {
   "cell_type": "code",
   "execution_count": 3,
   "metadata": {
    "ExecuteTime": {
     "end_time": "2016-06-09T11:09:26.791512",
     "start_time": "2016-06-09T11:09:25.511427"
    },
    "collapsed": false
   },
   "outputs": [],
   "source": [
    "#dc.list_products()"
   ]
  },
  {
   "cell_type": "markdown",
   "metadata": {},
   "source": [
    "## Datacube Measurements\n",
    "The list of measurements stored in the datacube can also be listed.\n",
    "\n",
    "Measurements are also known as _bands_ in the imagery domain, and _data variables_ when stored in NetCDF files or when working with `xarray.Dataset` objects."
   ]
  },
  {
   "cell_type": "code",
   "execution_count": 4,
   "metadata": {
    "ExecuteTime": {
     "end_time": "2016-06-09T11:09:31.349727",
     "start_time": "2016-06-09T11:09:29.858159"
    },
    "collapsed": false
   },
   "outputs": [],
   "source": [
    "#dc.list_measurements()"
   ]
  },
  {
   "cell_type": "code",
   "execution_count": 5,
   "metadata": {
    "collapsed": false
   },
   "outputs": [
    {
     "name": "stdout",
     "output_type": "stream",
     "text": [
      "Extent: (138.8742806106138, 138.8856287881116, -35.5589930957951, -35.55440732305348)\n"
     ]
    }
   ],
   "source": [
    "#Use this if you want to specify a shapefile\n",
    "#open shapefile and retrieve extents\n",
    "vec_fname = '/g/data/r78/lxl554/hovmoller/Murray Mouth.shp'\n",
    "vec_ds = ogr.Open(vec_fname)\n",
    "layer = vec_ds.GetLayer(0)\n",
    "extent = layer.GetExtent()\n",
    "print \"Extent: {}\".format(extent)"
   ]
  },
  {
   "cell_type": "markdown",
   "metadata": {},
   "source": [
    "## Retrieve surface reflectance data\n"
   ]
  },
  {
   "cell_type": "code",
   "execution_count": 6,
   "metadata": {
    "collapsed": true
   },
   "outputs": [],
   "source": [
    "#### DEFINE SPATIOTEMPORAL RANGE AND BANDS OF INTEREST\n",
    "#Use this to manually define an upper left/lower right coords\n",
    "#Define spatial range\n",
    "#lat_max = -27.75\n",
    "lat_max = extent[3]\n",
    "#lat_min = -27.85\n",
    "lat_min = extent[2]\n",
    "#lon_max = 137.57756\n",
    "lon_max = extent[1]\n",
    "#lon_min = 137.30746\n",
    "lon_min = extent[0]\n",
    "\n",
    "#Define temporal range\n",
    "start_of_epoch = '1987-01-01'\n",
    "#need a variable here that defines a rolling 'latest observation'\n",
    "end_of_epoch =  '2016-01-31'\n",
    "\n",
    "#Define wavelengths/bands of interest, remove this kwarg to retrieve all bands\n",
    "bands_of_interest = ['nir','red']\n",
    "\n",
    "#Define sensors of interest\n",
    "sensor1 = 'ls8'\n",
    "sensor2 = 'ls7'\n",
    "sensor3 = 'ls5'\n"
   ]
  },
  {
   "cell_type": "markdown",
   "metadata": {},
   "source": [
    "# retrieve the NBAR and PQ for the spatiotemporal range of interest\n"
   ]
  },
  {
   "cell_type": "code",
   "execution_count": 7,
   "metadata": {
    "ExecuteTime": {
     "end_time": "2016-06-09T11:09:49.335761",
     "start_time": "2016-06-09T11:09:32.888099"
    },
    "collapsed": false,
    "scrolled": true
   },
   "outputs": [],
   "source": [
    "sensor1_nbar = dc.load(product= sensor1+'_nbar_albers', \n",
    "                   x=(lon_min, lon_max), y=(lat_max, lat_min), \n",
    "                   time = (start_of_epoch, end_of_epoch), \n",
    "                   measurements = bands_of_interest,\n",
    "                   group_by='solar_day')\n",
    "\n",
    "sensor1_pq = dc.load(product= sensor1+'_pq_albers', \n",
    "                   x=(lon_min, lon_max), y=(lat_max, lat_min), \n",
    "                   time = (start_of_epoch, end_of_epoch),\n",
    "                   group_by='solar_day')\n",
    "            "
   ]
  },
  {
   "cell_type": "code",
   "execution_count": 8,
   "metadata": {
    "collapsed": false
   },
   "outputs": [],
   "source": [
    "#This line exists to make sure that there's a 1:1 match between NBAR and PQ\n",
    "sensor1_nbar = sensor1_nbar.sel(time = sensor1_pq.time)"
   ]
  },
  {
   "cell_type": "code",
   "execution_count": 9,
   "metadata": {
    "collapsed": true
   },
   "outputs": [],
   "source": [
    "sensor2_nbar = dc.load(product= sensor2+'_nbar_albers', \n",
    "                   x=(lon_min, lon_max), y=(lat_max, lat_min), \n",
    "                   time = (start_of_epoch, end_of_epoch), \n",
    "                   measurements = bands_of_interest,\n",
    "                   group_by='solar_day')\n",
    "                   \n",
    "sensor2_pq = dc.load(product= sensor2+'_pq_albers', \n",
    "                   x=(lon_min, lon_max), y=(lat_max, lat_min), \n",
    "                   time = (start_of_epoch, end_of_epoch),\n",
    "                   group_by='solar_day')\n",
    "                   "
   ]
  },
  {
   "cell_type": "code",
   "execution_count": 11,
   "metadata": {
    "collapsed": false
   },
   "outputs": [],
   "source": [
    "sensor2_nbar = sensor2_nbar.sel(time = sensor2_pq.time)"
   ]
  },
  {
   "cell_type": "code",
   "execution_count": 12,
   "metadata": {
    "collapsed": false
   },
   "outputs": [],
   "source": [
    "sensor3_nbar = dc.load(product= sensor3+'_nbar_albers', \n",
    "                   x=(lon_min, lon_max), y=(lat_max, lat_min), \n",
    "                   time = (start_of_epoch, end_of_epoch), \n",
    "                   measurements = bands_of_interest,\n",
    "                   group_by='solar_day')\n",
    "                   \n",
    "sensor3_pq = dc.load(product= sensor3+'_pq_albers', \n",
    "                   x=(lon_min, lon_max), y=(lat_max, lat_min), \n",
    "                   time = (start_of_epoch, end_of_epoch),\n",
    "                   group_by='solar_day')"
   ]
  },
  {
   "cell_type": "code",
   "execution_count": 13,
   "metadata": {
    "collapsed": true
   },
   "outputs": [],
   "source": [
    "sensor3_nbar = sensor3_nbar.sel(time = sensor3_pq.time)"
   ]
  },
  {
   "cell_type": "code",
   "execution_count": 14,
   "metadata": {
    "collapsed": false,
    "scrolled": true
   },
   "outputs": [
    {
     "name": "stdout",
     "output_type": "stream",
     "text": [
      "60\n",
      "60\n",
      "208\n",
      "208\n",
      "212\n",
      "212\n"
     ]
    }
   ],
   "source": [
    "\n",
    "print len (sensor1_nbar.time)\n",
    "print len (sensor1_pq.time)\n",
    "print len (sensor2_nbar.time)\n",
    "print len (sensor2_pq.time)\n",
    "print len (sensor3_nbar.time)\n",
    "print len (sensor3_pq.time)\n"
   ]
  },
  {
   "cell_type": "code",
   "execution_count": 15,
   "metadata": {
    "collapsed": false
   },
   "outputs": [],
   "source": [
    "#Concatenate NBAR from all sensors and sort by time and likewise for PQ\n",
    "nbar = xr.concat([sensor1_nbar, sensor2_nbar, sensor3_nbar], dim='time')\n",
    "time_sorted = nbar.time.argsort()\n",
    "nbar_sorted = nbar.isel(time=time_sorted)\n",
    "\n",
    "pq = xr.concat([sensor1_pq, sensor2_pq, sensor3_pq], dim='time')\n",
    "pq_time_sorted = pq.time.argsort()\n",
    "pq_sorted = pq.isel(time=pq_time_sorted)"
   ]
  },
  {
   "cell_type": "code",
   "execution_count": 16,
   "metadata": {
    "collapsed": false
   },
   "outputs": [
    {
     "name": "stdout",
     "output_type": "stream",
     "text": [
      "Frozen(SortedKeysDict({'y': 24, 'x': 43, 'time': 480}))\n",
      "Frozen(SortedKeysDict({'y': 24, 'x': 43, 'time': 480}))\n"
     ]
    }
   ],
   "source": [
    "print pq_sorted.dims\n",
    "print nbar_sorted.dims"
   ]
  },
  {
   "cell_type": "code",
   "execution_count": 17,
   "metadata": {
    "collapsed": true
   },
   "outputs": [],
   "source": [
    "#This one works...\n",
    "fmask_cloud_free = masking.make_mask(sensor1_pq, \n",
    "                              #cloud_acca='no_cloud', \n",
    "                              cloud_fmask='no_cloud',\n",
    "                              #blue_saturated = False,\n",
    "                              #green_saturated = False,\n",
    "                              #red_saturated = False,\n",
    "                              #nir_saturated = False,\n",
    "                              #swir1_saturated = False,\n",
    "                              #swir2_saturated = False,\n",
    "                              contiguous=True)\n",
    "nir = sensor1_nbar.nir.where(sensor1_nbar.nir != sensor1_nbar.nir.attrs['nodata'])\n",
    "red = sensor1_nbar.red.where(sensor1_nbar.red != sensor1_nbar.red.attrs['nodata'])\n",
    "fmask_good_data = fmask_cloud_free.pixelquality.loc[start_of_epoch:end_of_epoch]\n",
    "\n",
    "ndvi_fmask = ((nir - red) / (nir + red)).where(fmask_good_data)"
   ]
  },
  {
   "cell_type": "code",
   "execution_count": 18,
   "metadata": {
    "collapsed": false
   },
   "outputs": [
    {
     "data": {
      "text/plain": [
       "<xarray.Dataset>\n",
       "Dimensions:       (time: 60, x: 43, y: 24)\n",
       "Coordinates:\n",
       "  * time          (time) datetime64[ns] 2013-04-20 2013-05-06 2013-05-22 ...\n",
       "  * y             (y) float64 -3.9e+06 -3.901e+06 -3.901e+06 -3.901e+06 ...\n",
       "  * x             (x) float64 6.221e+05 6.222e+05 6.222e+05 6.222e+05 ...\n",
       "Data variables:\n",
       "    pixelquality  (time, y, x) int16 16383 16383 16383 16383 16383 16383 ...\n",
       "Attributes:\n",
       "    crs: EPSG:3577"
      ]
     },
     "execution_count": 18,
     "metadata": {},
     "output_type": "execute_result"
    }
   ],
   "source": [
    "sensor1_pq"
   ]
  },
  {
   "cell_type": "code",
   "execution_count": 19,
   "metadata": {
    "collapsed": false
   },
   "outputs": [
    {
     "data": {
      "text/plain": [
       "<xarray.Dataset>\n",
       "Dimensions:       (time: 480, x: 43, y: 24)\n",
       "Coordinates:\n",
       "  * y             (y) float64 -3.9e+06 -3.901e+06 -3.901e+06 -3.901e+06 ...\n",
       "  * x             (x) float64 6.221e+05 6.222e+05 6.222e+05 6.222e+05 ...\n",
       "  * time          (time) datetime64[ns] 1987-05-31 1987-09-20 1987-10-06 ...\n",
       "Data variables:\n",
       "    pixelquality  (time, y, x) int16 15359 15359 15359 15359 15359 15359 ...\n",
       "Attributes:\n",
       "    crs: EPSG:3577"
      ]
     },
     "execution_count": 19,
     "metadata": {},
     "output_type": "execute_result"
    }
   ],
   "source": [
    "pq_sorted"
   ]
  },
  {
   "cell_type": "code",
   "execution_count": 22,
   "metadata": {
    "collapsed": false
   },
   "outputs": [
    {
     "ename": "ValueError",
     "evalue": "No masking variable found",
     "output_type": "error",
     "traceback": [
      "\u001b[0;31m\u001b[0m",
      "\u001b[0;31mValueError\u001b[0mTraceback (most recent call last)",
      "\u001b[0;32m<ipython-input-22-e8093e369cde>\u001b[0m in \u001b[0;36m<module>\u001b[0;34m()\u001b[0m\n\u001b[1;32m      2\u001b[0m good_data = masking.make_mask(pq_sorted, \n\u001b[1;32m      3\u001b[0m                               \u001b[0;31m#cloud_acca='no_cloud',\u001b[0m\u001b[0;34m\u001b[0m\u001b[0;34m\u001b[0m\u001b[0m\n\u001b[0;32m----> 4\u001b[0;31m                               \u001b[0mcloud_fmask\u001b[0m\u001b[0;34m=\u001b[0m\u001b[0;34m'no_cloud'\u001b[0m\u001b[0;34m,\u001b[0m\u001b[0;34m\u001b[0m\u001b[0m\n\u001b[0m\u001b[1;32m      5\u001b[0m                               \u001b[0;31m#blue_saturated = False,\u001b[0m\u001b[0;34m\u001b[0m\u001b[0;34m\u001b[0m\u001b[0m\n\u001b[1;32m      6\u001b[0m                               \u001b[0;31m#green_saturated = False,\u001b[0m\u001b[0;34m\u001b[0m\u001b[0;34m\u001b[0m\u001b[0m\n",
      "\u001b[0;32m/g/data/v10/public/modules/agdc-py2/1.1.5/lib/python2.7/site-packages/datacube/storage/masking.pyc\u001b[0m in \u001b[0;36mmake_mask\u001b[0;34m(variable, **flags)\u001b[0m\n\u001b[1;32m     86\u001b[0m     \u001b[0;34m:\u001b[0m\u001b[0;32mreturn\u001b[0m\u001b[0;34m:\u001b[0m\u001b[0;34m\u001b[0m\u001b[0m\n\u001b[1;32m     87\u001b[0m     \"\"\"\n\u001b[0;32m---> 88\u001b[0;31m     \u001b[0mflags_def\u001b[0m \u001b[0;34m=\u001b[0m \u001b[0mget_flags_def\u001b[0m\u001b[0;34m(\u001b[0m\u001b[0mvariable\u001b[0m\u001b[0;34m)\u001b[0m\u001b[0;34m\u001b[0m\u001b[0m\n\u001b[0m\u001b[1;32m     89\u001b[0m \u001b[0;34m\u001b[0m\u001b[0m\n\u001b[1;32m     90\u001b[0m     \u001b[0mmask\u001b[0m\u001b[0;34m,\u001b[0m \u001b[0mmask_value\u001b[0m \u001b[0;34m=\u001b[0m \u001b[0mcreate_mask_value\u001b[0m\u001b[0;34m(\u001b[0m\u001b[0mflags_def\u001b[0m\u001b[0;34m,\u001b[0m \u001b[0;34m**\u001b[0m\u001b[0mflags\u001b[0m\u001b[0;34m)\u001b[0m\u001b[0;34m\u001b[0m\u001b[0m\n",
      "\u001b[0;32m/g/data/v10/public/modules/agdc-py2/1.1.5/lib/python2.7/site-packages/datacube/storage/masking.pyc\u001b[0m in \u001b[0;36mget_flags_def\u001b[0;34m(variable)\u001b[0m\n\u001b[1;32m    189\u001b[0m                     \u001b[0;32mpass\u001b[0m\u001b[0;34m\u001b[0m\u001b[0m\n\u001b[1;32m    190\u001b[0m \u001b[0;34m\u001b[0m\u001b[0m\n\u001b[0;32m--> 191\u001b[0;31m         \u001b[0;32mraise\u001b[0m \u001b[0mValueError\u001b[0m\u001b[0;34m(\u001b[0m\u001b[0;34m'No masking variable found'\u001b[0m\u001b[0;34m)\u001b[0m\u001b[0;34m\u001b[0m\u001b[0m\n\u001b[0m\u001b[1;32m    192\u001b[0m \u001b[0;34m\u001b[0m\u001b[0m\n\u001b[1;32m    193\u001b[0m \u001b[0;34m\u001b[0m\u001b[0m\n",
      "\u001b[0;31mValueError\u001b[0m: No masking variable found"
     ]
    }
   ],
   "source": [
    "#But this one doesn't??? Only difference I can see is that pq_sorted object now has 3 coordinates (now includes time)\n",
    "good_data = masking.make_mask(pq_sorted, \n",
    "                              #cloud_acca='no_cloud', \n",
    "                              cloud_fmask='no_cloud',\n",
    "                              #blue_saturated = False,\n",
    "                              #green_saturated = False,\n",
    "                              #red_saturated = False,\n",
    "                              #nir_saturated = False,\n",
    "                              #swir1_saturated = False,\n",
    "                              #swir2_saturated = False,\n",
    "                              #contiguous=True)\n",
    "                              )\n",
    "nir = nbar_sorted.nir.where(nbar_sorted.nir != nbar_sorted.nir.attrs['nodata'])\n",
    "red = nbar_sorted.red.where(nbar_sorted.red != nbar_sorted.red.attrs['nodata'])\n",
    "sorted_good_data = good_data.pixelquality.loc[start_of_epoch:end_of_epoch]\n",
    "\n",
    "ndvi = ((nir - red) / (nir + red)).where(sorted_good_data)"
   ]
  },
  {
   "cell_type": "code",
   "execution_count": null,
   "metadata": {
    "collapsed": false
   },
   "outputs": [],
   "source": [
    "sensor1_nbar['red'].isel(x=[10], y=[10]).plot()"
   ]
  },
  {
   "cell_type": "code",
   "execution_count": null,
   "metadata": {
    "collapsed": false
   },
   "outputs": [],
   "source": [
    "nbar_sorted['red'].isel(x=[10], y=[10]).plot()"
   ]
  },
  {
   "cell_type": "code",
   "execution_count": null,
   "metadata": {
    "collapsed": false
   },
   "outputs": [],
   "source": [
    "pq_sorted['pixelquality'].isel(x=[10], y=[10])"
   ]
  },
  {
   "cell_type": "code",
   "execution_count": null,
   "metadata": {
    "collapsed": false
   },
   "outputs": [],
   "source": [
    "#len (sensor_combined.time)"
   ]
  },
  {
   "cell_type": "markdown",
   "metadata": {},
   "source": [
    "The returned data is an `xarray.Dataset` object, which is a labelled n-dimensional array wrapping a `numpy` array.\n",
    "\n",
    "We can investigate the data to see the variables (measurement bands) and dimensions that were returned:"
   ]
  },
  {
   "cell_type": "code",
   "execution_count": null,
   "metadata": {
    "ExecuteTime": {
     "end_time": "2016-06-09T11:09:49.357399",
     "start_time": "2016-06-09T11:09:49.337132"
    },
    "collapsed": false
   },
   "outputs": [],
   "source": [
    "#to view the attributes of the xarray.data\n",
    "#sensor1_pq\n",
    "#ls7_nbar\n",
    "#ls8_nbar"
   ]
  },
  {
   "cell_type": "code",
   "execution_count": null,
   "metadata": {
    "collapsed": false
   },
   "outputs": [],
   "source": [
    "#print sensor1_nbar.time.min()\n",
    "print sensor1_nbar.time.min()\n",
    "#print sensor2_nbar.time.min()\n",
    "print sensor1_pq.time.max()"
   ]
  },
  {
   "cell_type": "code",
   "execution_count": null,
   "metadata": {
    "collapsed": false
   },
   "outputs": [],
   "source": [
    "def calculate_size(bytes, gb=False):\n",
    "    size = bytes / 1024.0 / 1024.0\n",
    "    if gb: \n",
    "        return size / 1024.0\n",
    "    return size\n",
    "print \"Array size in Gb:{}\".format(calculate_size(sensor1_nbar.nbytes, True))\n",
    "VDIram = 12\n",
    "RAMpercent = ((calculate_size(sensor1_nbar.nbytes, True)/VDIram)*100)\n",
    "print \"Selected array is \" +str(RAMpercent)+ \" percent of available RAM\""
   ]
  },
  {
   "cell_type": "code",
   "execution_count": null,
   "metadata": {
    "ExecuteTime": {
     "end_time": "2016-06-09T11:09:49.381423",
     "start_time": "2016-06-09T11:09:49.358790"
    },
    "collapsed": false
   },
   "outputs": [],
   "source": [
    "#to view variables\n",
    "sensor1_nbar.data_vars"
   ]
  },
  {
   "cell_type": "markdown",
   "metadata": {},
   "source": [
    "## Masking out no_data and cloud affected pixels\n",
    "When there is no data availaible, such as on the boundaries of a scene, it is filled in with a special value.\n",
    "We can use filter it out, although xarray will convert the data from `int` to `float` so that it can use `NaN` to indicate no data.\n",
    "\n",
    "Now that bad values are no longer represented as `-9999`, the data fits on a much better colour ramp:"
   ]
  },
  {
   "cell_type": "code",
   "execution_count": null,
   "metadata": {
    "collapsed": false
   },
   "outputs": [],
   "source": [
    "#help (sensor1_pq)\n",
    "\n",
    "#pandas.DataFrame.from_dict(masking.get_flags_def(sensor1_pq), orient='index')"
   ]
  },
  {
   "cell_type": "markdown",
   "metadata": {},
   "source": [
    "## Some basic band maths\n",
    "We can combine the `red` and `nir` (_near-infrared_) bands to calculate NDVI (_normalised difference vegetation index_)."
   ]
  },
  {
   "cell_type": "code",
   "execution_count": null,
   "metadata": {
    "collapsed": true
   },
   "outputs": [],
   "source": [
    "acca_cloud_free = masking.make_mask(sensor1_pq, \n",
    "                              cloud_acca='no_cloud', \n",
    "                              #cloud_fmask='no_cloud',\n",
    "                              #blue_saturated = False,\n",
    "                              #green_saturated = False,\n",
    "                              #red_saturated = False,\n",
    "                              #nir_saturated = False,\n",
    "                              #swir1_saturated = False,\n",
    "                              #swir2_saturated = False,\n",
    "                              contiguous=True)\n",
    "nir = sensor1_nbar.nir.where(sensor1_nbar.nir != sensor1_nbar.nir.attrs['nodata'])\n",
    "red = sensor1_nbar.red.where(sensor1_nbar.red != sensor1_nbar.red.attrs['nodata'])\n",
    "acca_good_data = acca_cloud_free.pixelquality.loc[start_of_epoch:end_of_epoch]\n",
    "\n",
    "ndvi_acca = ((nir - red) / (nir + red)).where(acca_good_data)"
   ]
  },
  {
   "cell_type": "code",
   "execution_count": null,
   "metadata": {
    "collapsed": true
   },
   "outputs": [],
   "source": [
    "saturation_free = masking.make_mask(sensor1_pq, \n",
    "                              #cloud_acca='no_cloud', \n",
    "                              #cloud_fmask='no_cloud',\n",
    "                              blue_saturated = False,\n",
    "                              green_saturated = False,\n",
    "                              red_saturated = False,\n",
    "                              nir_saturated = False,\n",
    "                              swir1_saturated = False,\n",
    "                              swir2_saturated = False,\n",
    "                              contiguous=True)\n",
    "nir = sensor1_nbar.nir.where(sensor1_nbar.nir != sensor1_nbar.nir.attrs['nodata'])\n",
    "red = sensor1_nbar.red.where(sensor1_nbar.red != sensor1_nbar.red.attrs['nodata'])\n",
    "saturation_good_data = saturation_free.pixelquality.loc[start_of_epoch:end_of_epoch]\n",
    "\n",
    "ndvi_saturation = ((nir - red) / (nir + red)).where(saturation_good_data)"
   ]
  },
  {
   "cell_type": "code",
   "execution_count": null,
   "metadata": {
    "collapsed": true
   },
   "outputs": [],
   "source": [
    "contiguous = masking.make_mask(sensor1_pq, contiguous=True)\n",
    "\n",
    "pq_contig = contiguous.pixelquality.loc[start_of_epoch:end_of_epoch]\n"
   ]
  },
  {
   "cell_type": "markdown",
   "metadata": {},
   "source": [
    "## Pixel drill"
   ]
  },
  {
   "cell_type": "code",
   "execution_count": null,
   "metadata": {
    "ExecuteTime": {
     "end_time": "2016-06-09T11:10:52.492767",
     "start_time": "2016-06-09T11:10:52.275732"
    },
    "collapsed": false
   },
   "outputs": [],
   "source": [
    "ndvi_fmask.isel(x=[10], y=[10]).plot()"
   ]
  },
  {
   "cell_type": "code",
   "execution_count": null,
   "metadata": {
    "ExecuteTime": {
     "end_time": "2016-06-09T11:10:52.839143",
     "start_time": "2016-06-09T11:10:52.494095"
    },
    "collapsed": false
   },
   "outputs": [],
   "source": [
    "#mostly_good_ndvi.isel(y=100).plot()"
   ]
  },
  {
   "cell_type": "markdown",
   "metadata": {},
   "source": [
    "## Plotting a multi-band image"
   ]
  },
  {
   "cell_type": "code",
   "execution_count": null,
   "metadata": {
    "ExecuteTime": {
     "end_time": "2016-06-09T11:10:55.454381",
     "start_time": "2016-06-09T11:10:53.160876"
    },
    "collapsed": false
   },
   "outputs": [],
   "source": [
    "rgb = dc.load(product= sensor1+'_nbar_albers', \n",
    "              x=(lon_min, lon_max), y=(lat_max, lat_min), \n",
    "              time = (start_of_epoch, end_of_epoch), \n",
    "              measurements=['swir1', 'nir', 'green'], \n",
    "              group_by='solar_day', stack='color',\n",
    "              dask_chunks={'time':1, 'x': 1000, 'y': 1000} ).transpose('time', 'y', 'x', 'color')\n",
    "            \n",
    "\n",
    "zip(rgb.dims, rgb.shape)"
   ]
  },
  {
   "cell_type": "code",
   "execution_count": null,
   "metadata": {
    "ExecuteTime": {
     "end_time": "2016-06-09T11:10:55.517753",
     "start_time": "2016-06-09T11:10:55.455736"
    },
    "collapsed": true
   },
   "outputs": [],
   "source": [
    "fake_saturation = 6000\n",
    "clipped_visible = rgb.where(rgb<fake_saturation).fillna(fake_saturation)\n",
    "max_val = clipped_visible.max(['y', 'x'])\n",
    "scaled = (clipped_visible / max_val)"
   ]
  },
  {
   "cell_type": "code",
   "execution_count": null,
   "metadata": {
    "collapsed": false
   },
   "outputs": [],
   "source": [
    "from matplotlib import pyplot as plt\n",
    "fig, axes = plt.subplots(ncols=2, nrows = 2, figsize=(11.69,8.27))\n",
    "t = 11\n",
    "axes[0,0].imshow(scaled.isel(time = t))\n",
    "axes[0,0].set_title(scaled.time[t])\n",
    "axes[0,1].imshow(ndvi_acca.isel(time = t), cmap = 'viridis')\n",
    "axes[0,1].set_title('ACCA')\n",
    "axes[1,0].imshow(ndvi_fmask.isel(time = t), cmap = 'viridis')\n",
    "axes[1,0].set_title('Fmask')\n",
    "axes[1,1].imshow(ndvi_saturation.isel(time = t), cmap = 'viridis')\n",
    "axes[1,1].set_title('Saturated')\n",
    "#tight_layout()"
   ]
  },
  {
   "cell_type": "code",
   "execution_count": null,
   "metadata": {
    "ExecuteTime": {
     "end_time": "2016-06-09T11:10:55.725962",
     "start_time": "2016-06-09T11:10:55.519169"
    },
    "collapsed": false
   },
   "outputs": [],
   "source": [
    "from matplotlib import pyplot as plt\n",
    "fig, axes = plt.subplots(ncols=2, nrows = 2, figsize=(11.69,8.27))\n",
    "t = 3\n",
    "axes[0,0].imshow(scaled.isel(time = t))\n",
    "axes[0,0].set_title(scaled.time[t])\n",
    "axes[0,1].imshow(acca_good_data.sum('time')/pq_contig.sum('time').astype(float))\n",
    "axes[0,1].set_title('ACCA')\n",
    "axes[1,0].imshow(fmask_good_data.sum('time')/pq_contig.sum('time').astype(float))\n",
    "axes[1,0].set_title('Fmask')\n",
    "axes[1,1].imshow(saturation_good_data.sum('time')/pq_contig.sum('time').astype(float))\n",
    "axes[1,1].set_title('Saturated')\n",
    "#tight_layout()'''"
   ]
  },
  {
   "cell_type": "code",
   "execution_count": null,
   "metadata": {
    "collapsed": false
   },
   "outputs": [],
   "source": [
    "#fig,  figsize=(11.69,8.27)\n",
    "\n",
    "\n",
    "saturation_good_data.sum('time').plot()"
   ]
  },
  {
   "cell_type": "code",
   "execution_count": null,
   "metadata": {
    "collapsed": false
   },
   "outputs": [],
   "source": [
    "acca_good_data.sum('time').plot()"
   ]
  },
  {
   "cell_type": "code",
   "execution_count": null,
   "metadata": {
    "collapsed": false
   },
   "outputs": [],
   "source": [
    "plt.imshow(ndvi_acca.isel(time = t), cmap = 'viridis')"
   ]
  },
  {
   "cell_type": "code",
   "execution_count": null,
   "metadata": {
    "collapsed": false
   },
   "outputs": [],
   "source": [
    "plt.imshow(ndvi_fmask.isel(time = t), cmap = 'viridis')"
   ]
  },
  {
   "cell_type": "code",
   "execution_count": null,
   "metadata": {
    "collapsed": false
   },
   "outputs": [],
   "source": [
    "plt.imshow(ndvi_saturation.isel(time = t), cmap = 'viridis')"
   ]
  },
  {
   "cell_type": "code",
   "execution_count": null,
   "metadata": {
    "collapsed": true
   },
   "outputs": [],
   "source": []
  },
  {
   "cell_type": "code",
   "execution_count": null,
   "metadata": {
    "collapsed": true
   },
   "outputs": [],
   "source": []
  }
 ],
 "metadata": {
  "kernelspec": {
   "display_name": "Python 2",
   "language": "python",
   "name": "python2"
  },
  "language_info": {
   "codemirror_mode": {
    "name": "ipython",
    "version": 2
   },
   "file_extension": ".py",
   "mimetype": "text/x-python",
   "name": "python",
   "nbconvert_exporter": "python",
   "pygments_lexer": "ipython2",
   "version": "2.7.12"
  },
  "toc": {
   "toc_cell": false,
   "toc_number_sections": false,
   "toc_threshold": 6,
   "toc_window_display": true
  }
 },
 "nbformat": 4,
 "nbformat_minor": 0
}
