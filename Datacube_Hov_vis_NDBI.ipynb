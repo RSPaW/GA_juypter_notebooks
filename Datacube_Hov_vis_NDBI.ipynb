{
 "cells": [
  {
   "cell_type": "code",
   "execution_count": 1,
   "metadata": {
    "collapsed": true
   },
   "outputs": [],
   "source": [
    "# Australian Geoscience Datacube\n",
    "## Feature Summary Examples"
   ]
  },
  {
   "cell_type": "markdown",
   "metadata": {},
   "source": [
    "The [Australian Geoscience Datacube](https://github.com/data-cube/agdc-v2) provides an integrated gridded data analysis environment for decades of analysis ready earth observation satellite and related data from multiple satellite and other acquisition systems.\n",
    "\n",
    "For instructions on using the Datacube on NCI, see: http://agdc-v2.readthedocs.io/en/develop/nci_usage.html\n",
    "\n",
    "For instructions on setting up your own instance, see: http://agdc-v2.readthedocs.io/en/develop/install.html\n",
    "\n",
    "This notebook touches briefly on some the implimented features of the Datacube module, and is only intended to deomstrat functionality rather than be a tutorial."
   ]
  },
  {
   "cell_type": "code",
   "execution_count": 2,
   "metadata": {
    "ExecuteTime": {
     "end_time": "2016-06-09T11:09:06.502514",
     "start_time": "2016-06-09T11:09:04.805211"
    },
    "collapsed": false
   },
   "outputs": [
    {
     "name": "stdout",
     "output_type": "stream",
     "text": [
      "Populating the interactive namespace from numpy and matplotlib\n"
     ]
    }
   ],
   "source": [
    "%pylab notebook\n",
    "#%pylab inline\n",
    "#%matplotlib inline\n",
    "import datacube\n",
    "import xarray as xr\n",
    "from datacube.storage import masking\n",
    "from datacube.storage.masking import mask_to_dict\n",
    "from matplotlib import pyplot as plt\n",
    "import matplotlib.dates\n",
    "import json\n",
    "import pandas as pd\n",
    "from IPython.display import display\n",
    "import ipywidgets as widgets\n",
    "import fiona\n",
    "import shapely\n",
    "import shapely.geometry\n",
    "from shapely.geometry import shape\n",
    "import rasterio\n",
    "import matplotlib.gridspec as gridspec\n"
   ]
  },
  {
   "cell_type": "markdown",
   "metadata": {},
   "source": [
    "If you have set up your config correctly, or are using the module on NCI, you should be able to make `Datacube` object that can connects to the configured datacube system."
   ]
  },
  {
   "cell_type": "code",
   "execution_count": 3,
   "metadata": {
    "ExecuteTime": {
     "end_time": "2016-06-09T11:09:07.599525",
     "start_time": "2016-06-09T11:09:07.553759"
    },
    "collapsed": false
   },
   "outputs": [
    {
     "data": {
      "text/plain": [
       "Datacube<index=Index<db=PostgresDb<engine=Engine(postgresql://lxl554@130.56.244.227:6432/datacube)>>>"
      ]
     },
     "execution_count": 3,
     "metadata": {},
     "output_type": "execute_result"
    }
   ],
   "source": [
    "dc = datacube.Datacube(app='dc-example')\n",
    "dc"
   ]
  },
  {
   "cell_type": "markdown",
   "metadata": {},
   "source": [
    "## Datacube products and measurements\n",
    "The Datacube provides pandas.DataFrame representations of the available products and measurements:"
   ]
  },
  {
   "cell_type": "code",
   "execution_count": 4,
   "metadata": {
    "ExecuteTime": {
     "end_time": "2016-06-09T11:09:26.791512",
     "start_time": "2016-06-09T11:09:25.511427"
    },
    "collapsed": false
   },
   "outputs": [],
   "source": [
    "#dc.list_products()"
   ]
  },
  {
   "cell_type": "markdown",
   "metadata": {},
   "source": [
    "## Datacube Measurements\n",
    "The list of measurements stored in the datacube can also be listed.\n",
    "\n",
    "Measurements are also known as _bands_ in the imagery domain, and _data variables_ when stored in NetCDF files or when working with `xarray.Dataset` objects."
   ]
  },
  {
   "cell_type": "code",
   "execution_count": 5,
   "metadata": {
    "ExecuteTime": {
     "end_time": "2016-06-09T11:09:31.349727",
     "start_time": "2016-06-09T11:09:29.858159"
    },
    "collapsed": false
   },
   "outputs": [],
   "source": [
    "#dc.list_measurements()"
   ]
  },
  {
   "cell_type": "code",
   "execution_count": 6,
   "metadata": {
    "collapsed": true
   },
   "outputs": [],
   "source": [
    "def geom_query(geom, geom_crs='EPSG:28355'):\n",
    "    \"\"\"\n",
    "    Create datacube query snippet for geometry\n",
    "    \"\"\"\n",
    "    return {\n",
    "        'x': (geom.bounds[0], geom.bounds[2]),\n",
    "        'y': (geom.bounds[1], geom.bounds[3]),\n",
    "        'crs': geom_crs\n",
    "    }\n",
    "\n",
    "\n",
    "def warp_geometry(geom, crs_crs, dst_crs):\n",
    "    \"\"\"\n",
    "    warp geometry from crs_crs to dst_crs\n",
    "    \"\"\"\n",
    "    return shapely.geometry.shape(rasterio.warp.transform_geom(crs_crs, dst_crs, shapely.geometry.mapping(geom)))\n",
    "\n",
    "\n",
    "def transect(data, geom, resolution, method='nearest', tolerance=None):\n",
    "    \"\"\"\n",
    "    \n",
    "    \"\"\"\n",
    "    dist = [i for i in range(0, int(geom.length), resolution)]\n",
    "    points = zip(*[geom.interpolate(d).coords[0] for d in dist])\n",
    "    indexers = {\n",
    "        data.crs.dimensions[0]: list(points[1]),\n",
    "        data.crs.dimensions[1]: list(points[0])        \n",
    "    }\n",
    "    return data.sel_points(xr.DataArray(dist, name='distance', dims=['distance']),\n",
    "                           method=method,\n",
    "                           tolerance=tolerance,\n",
    "                           **indexers)"
   ]
  },
  {
   "cell_type": "code",
   "execution_count": 9,
   "metadata": {
    "collapsed": false
   },
   "outputs": [],
   "source": [
    "#### DEFINE SPATIOTEMPORAL RANGE AND BANDS OF INTEREST\n",
    "#Use this to manually define an upper left/lower right coords\n",
    "#Either as polygon or as lat/lon range\n",
    "\n",
    "\n",
    "vec_fname = '/g/data/r78/lxl554/hovmoller/Clean map.shp' #comment these lines out if running without polygon\n",
    "src = fiona.open(vec_fname)\n",
    "geom = shape(src[0]['geometry'])\n",
    "\n",
    "\n",
    "\n",
    "\n",
    "#Define temporal range\n",
    "start_of_epoch = '1987-01-01'\n",
    "#need a variable here that defines a rolling 'latest observation'\n",
    "end_of_epoch =  '2016-12-31'\n",
    "\n",
    "#Define wavelengths/bands of interest, remove this kwarg to retrieve all bands\n",
    "bands_of_interest = [#'blue',\n",
    "                     'green',\n",
    "                     'red', \n",
    "                     'nir',\n",
    "                     'swir1', \n",
    "                     #'swir2'\n",
    "                     ]\n",
    "\n",
    "#Define sensors of interest\n",
    "sensor1 = 'ls8'\n",
    "sensor2 = 'ls7'\n",
    "sensor3 = 'ls5'\n",
    "\n",
    "query = {\n",
    "    'time': (start_of_epoch, end_of_epoch),\n",
    "}\n",
    "\n",
    "#query.update(geom_query(geom)) #comment this out if not using a polygon\n",
    "\n",
    "#If not using a polygon/polyline, enter lat/lon here manually\n",
    "lat_max = -35.12\n",
    "lat_min = -35.23\n",
    "lon_max = 149.19\n",
    "lon_min = 149.06\n",
    "query['x'] = (lon_min, lon_max)\n",
    "query['y'] = (lat_max, lat_min)\n",
    "query['crs'] = 'EPSG:4326'"
   ]
  },
  {
   "cell_type": "code",
   "execution_count": 10,
   "metadata": {
    "collapsed": false
   },
   "outputs": [
    {
     "name": "stdout",
     "output_type": "stream",
     "text": [
      "{'y': (-35.12, -35.23), 'x': (149.06, 149.19), 'crs': 'EPSG:4326', 'time': ('1987-01-01', '2016-12-31')}\n"
     ]
    }
   ],
   "source": [
    "print query"
   ]
  },
  {
   "cell_type": "markdown",
   "metadata": {},
   "source": [
    "## Retrieve surface reflectance data\n"
   ]
  },
  {
   "cell_type": "code",
   "execution_count": 11,
   "metadata": {
    "collapsed": true
   },
   "outputs": [],
   "source": [
    "#Group PQ by solar day to avoid idiosyncracies of N/S overlap differences in PQ algorithm performance\n",
    "pq_albers_product = dc.index.products.get_by_name(sensor1+'_pq_albers')\n",
    "valid_bit = pq_albers_product.measurements['pixelquality']['flags_definition']['contiguous']['bits']\n",
    "\n",
    "def pq_fuser(dest, src):\n",
    "    valid_val = (1 << valid_bit)\n",
    "\n",
    "    no_data_dest_mask = ~(dest & valid_val).astype(bool)\n",
    "    np.copyto(dest, src, where=no_data_dest_mask)\n",
    "\n",
    "    both_data_mask = (valid_val & dest & src).astype(bool)\n",
    "    np.copyto(dest, src & dest, where=both_data_mask)"
   ]
  },
  {
   "cell_type": "code",
   "execution_count": 12,
   "metadata": {
    "collapsed": false
   },
   "outputs": [],
   "source": [
    "#load sensor specific band adjustment tuples for TSS and brightness"
   ]
  },
  {
   "cell_type": "code",
   "execution_count": 13,
   "metadata": {
    "collapsed": true
   },
   "outputs": [],
   "source": [
    "#load sensor specific band adjustment tuples for TSS \n",
    "ls5_tss_constant = 3983\n",
    "ls5_tss_exponent = 1.6246\n",
    "ls7_tss_constant = 3983\n",
    "ls7_tss_exponent = 1.6246\n",
    "ls8_tss_constant = 3957\n",
    "ls8_tss_exponent = 1.6436"
   ]
  },
  {
   "cell_type": "markdown",
   "metadata": {},
   "source": [
    "# retrieve the NBAR and PQ for the spatiotemporal range of interest\n"
   ]
  },
  {
   "cell_type": "code",
   "execution_count": 14,
   "metadata": {
    "ExecuteTime": {
     "end_time": "2016-06-09T11:09:49.335761",
     "start_time": "2016-06-09T11:09:32.888099"
    },
    "collapsed": false,
    "scrolled": true
   },
   "outputs": [],
   "source": [
    "#Retrieve the NBAR and PQ data for sensor n\n",
    "sensor1_nbar = dc.load(product= sensor1+'_nbar_albers', group_by='solar_day', measurements = bands_of_interest,  **query)\n",
    "sensor1_pq = dc.load(product= sensor1+'_pq_albers', group_by='solar_day', fuse_func=pq_fuser, **query)\n",
    "            "
   ]
  },
  {
   "cell_type": "code",
   "execution_count": 15,
   "metadata": {
    "collapsed": false
   },
   "outputs": [],
   "source": [
    "crs = sensor1_nbar.crs.wkt\n",
    "affine = sensor1_nbar.affine"
   ]
  },
  {
   "cell_type": "code",
   "execution_count": 16,
   "metadata": {
    "collapsed": false
   },
   "outputs": [
    {
     "data": {
      "text/plain": [
       "Affine(25.0, 0.0, 1545000.0,\n",
       "       0.0, -25.0, -3938875.0)"
      ]
     },
     "execution_count": 16,
     "metadata": {},
     "output_type": "execute_result"
    }
   ],
   "source": [
    "affine"
   ]
  },
  {
   "cell_type": "code",
   "execution_count": 17,
   "metadata": {
    "collapsed": false
   },
   "outputs": [],
   "source": [
    "#This line exists to make sure that there's a 1:1 match between NBAR and PQ\n",
    "sensor1_nbar = sensor1_nbar.sel(time = sensor1_pq.time)"
   ]
  },
  {
   "cell_type": "code",
   "execution_count": 18,
   "metadata": {
    "collapsed": false
   },
   "outputs": [],
   "source": [
    "#Generate PQ masks and apply those masks to remove cloud, cloud shadow, saturated observations\n",
    "#Generate PQ masks and apply those masks to remove cloud, cloud shadow, saturated observations\n",
    "s1_cloud_free = masking.make_mask(sensor1_pq, \n",
    "                              cloud_acca='no_cloud',\n",
    "                              cloud_shadow_acca = 'no_cloud_shadow',\n",
    "                              cloud_shadow_fmask = 'no_cloud_shadow',\n",
    "                              cloud_fmask='no_cloud',\n",
    "                              blue_saturated = False,\n",
    "                              green_saturated = False,\n",
    "                              red_saturated = False,\n",
    "                              nir_saturated = False,\n",
    "                              swir1_saturated = False,\n",
    "                              swir2_saturated = False,\n",
    "                              contiguous=True)\n",
    "s1_good_data = s1_cloud_free.pixelquality.loc[start_of_epoch:end_of_epoch]\n",
    "sensor1_nbar = sensor1_nbar.where(s1_good_data)"
   ]
  },
  {
   "cell_type": "code",
   "execution_count": 19,
   "metadata": {
    "collapsed": false
   },
   "outputs": [],
   "source": [
    "#Fix the TSS coefficients for each sensor\n",
    "all_indices = [#'BRIGHT','GREEN','WET',\n",
    "               'NDVI','NBR','NDWI','TSS', 'NDBI']\n",
    "sensor1_rsindex = {}\n",
    "for i, name in enumerate(all_indices):\n",
    "    #sensor1_rsindex['BRIGHT'] = pd.DataFrame((s1[0]*0.3037)+(s1[1]*0.2793)+(s1[2]*0.4343)+(s1[3]*0.5585)+(s1[4]*0.5082)+(s1[0]*0.1863))\n",
    "    #sensor1_rsindex['GREEN'] = pd.DataFrame((s1[0]*-0.2848)+(s1[1]*-0.2435)+(s1[2]*-0.5436)+(s1[3]*0.7243)+(s1[4]*0.0840)+(s1[0]*-0.1800))\n",
    "    #sensor1_rsindex['WET'] = pd.DataFrame((s1[0]*0.1509)+(s1[1]*0.1793)+(s1[2]*0.3299)+(s1[3]*0.3406)+(s1[4]*-0.7112)+(s1[0]*-0.4572))\n",
    "    sensor1_rsindex['NDVI'] = ((sensor1_nbar['nir']-sensor1_nbar['red'])/(sensor1_nbar['nir']+sensor1_nbar['red']))\n",
    "    #sensor1_rsindex['NDWI'] = ((sensor1_nbar['swir1']-sensor1_nbar['green'])/(sensor1_nbar['swir1']+sensor1_nbar['green']))\n",
    "    #sensor1_rsindex['NBR'] = ((sensor1_nbar['nir']-sensor1_nbar['swir2'])/(sensor1_nbar['nir']+sensor1_nbar['swir2']))\n",
    "    #Need this to reference into a tuple - Check with Damien    \n",
    "    sensor1_rsindex['NDBI'] = ((sensor1_nbar['swir1']-sensor1_nbar['nir'])/(sensor1_nbar['swir1']+sensor1_nbar['nir']))\n"
   ]
  },
  {
   "cell_type": "code",
   "execution_count": 20,
   "metadata": {
    "collapsed": false
   },
   "outputs": [],
   "source": [
    "sensor2_nbar = dc.load(product= sensor2+'_nbar_albers', group_by='solar_day', measurements = bands_of_interest,  **query)\n",
    "sensor2_pq = dc.load(product= sensor2+'_pq_albers', group_by='solar_day', fuse_func=pq_fuser, **query)                  "
   ]
  },
  {
   "cell_type": "code",
   "execution_count": 21,
   "metadata": {
    "collapsed": false
   },
   "outputs": [],
   "source": [
    "sensor2_nbar = sensor2_nbar.sel(time = sensor2_pq.time)"
   ]
  },
  {
   "cell_type": "code",
   "execution_count": 22,
   "metadata": {
    "collapsed": false
   },
   "outputs": [],
   "source": [
    "s2_cloud_free = masking.make_mask(sensor2_pq, \n",
    "                              cloud_acca='no_cloud',\n",
    "                              cloud_shadow_acca = 'no_cloud_shadow',\n",
    "                              cloud_shadow_fmask = 'no_cloud_shadow',\n",
    "                              cloud_fmask='no_cloud',\n",
    "                              blue_saturated = False,\n",
    "                              green_saturated = False,\n",
    "                              red_saturated = False,\n",
    "                              nir_saturated = False,\n",
    "                              swir1_saturated = False,\n",
    "                              swir2_saturated = False,\n",
    "                              contiguous=True)\n",
    "s2_good_data = s2_cloud_free.pixelquality.loc[start_of_epoch:end_of_epoch]\n",
    "sensor2_nbar = sensor2_nbar.where(s2_good_data)"
   ]
  },
  {
   "cell_type": "code",
   "execution_count": 23,
   "metadata": {
    "collapsed": false
   },
   "outputs": [],
   "source": [
    "all_indices = [#'BRIGHT','GREEN','WET',\n",
    "               'NDVI','NBR', 'NDWI','TSS']\n",
    "sensor2_rsindex = {}\n",
    "for i, name in enumerate(all_indices):\n",
    "    #sensor2_rsindex['BRIGHT'] = pd.DataFrame((s1[0]*0.3037)+(s1[1]*0.2793)+(s1[2]*0.4343)+(s1[3]*0.5585)+(s1[4]*0.5082)+(s1[0]*0.1863))\n",
    "    #sensor2_rsindex['GREEN'] = pd.DataFrame((s1[0]*-0.2848)+(s1[1]*-0.2435)+(s1[2]*-0.5436)+(s1[3]*0.7243)+(s1[4]*0.0840)+(s1[0]*-0.1800))\n",
    "    #sensor2_rsindex['WET'] = pd.DataFrame((s1[0]*0.1509)+(s1[1]*0.1793)+(s1[2]*0.3299)+(s1[3]*0.3406)+(s1[4]*-0.7112)+(s1[0]*-0.4572))\n",
    "    sensor2_rsindex['NDVI'] = ((sensor2_nbar['nir']-sensor2_nbar['red'])/(sensor2_nbar['nir']+sensor2_nbar['red']))\n",
    "    #sensor2_rsindex['NDWI'] = ((sensor2_nbar['swir1']-sensor2_nbar['green'])/(sensor2_nbar['swir1']+sensor2_nbar['green']))\n",
    "    #sensor2_rsindex['NBR'] = ((sensor2_nbar['nir']-sensor2_nbar['swir2'])/(sensor2_nbar['nir']+sensor2_nbar['swir2']))\n",
    "    #sensor2_rsindex['TSS'] = (ls7_tss_constant*((sensor2_nbar['green']+sensor2_nbar['red'])/20000)**ls7_tss_exponent)\n",
    "    sensor2_rsindex['NDBI'] = ((sensor2_nbar['swir1']-sensor2_nbar['nir'])/(sensor2_nbar['swir1']+sensor2_nbar['nir']))\n"
   ]
  },
  {
   "cell_type": "code",
   "execution_count": 24,
   "metadata": {
    "collapsed": false
   },
   "outputs": [],
   "source": [
    "sensor3_nbar = dc.load(product= sensor3+'_nbar_albers', group_by='solar_day', measurements = bands_of_interest,  **query)\n",
    "sensor3_pq = dc.load(product= sensor3+'_pq_albers', group_by='solar_day', fuse_func=pq_fuser, **query)                  "
   ]
  },
  {
   "cell_type": "code",
   "execution_count": 25,
   "metadata": {
    "collapsed": false
   },
   "outputs": [],
   "source": [
    "sensor3_nbar = sensor3_nbar.sel(time = sensor3_pq.time)"
   ]
  },
  {
   "cell_type": "code",
   "execution_count": 26,
   "metadata": {
    "collapsed": false
   },
   "outputs": [],
   "source": [
    "s3_cloud_free = masking.make_mask(sensor3_pq, \n",
    "                              cloud_acca='no_cloud',\n",
    "                              cloud_shadow_acca = 'no_cloud_shadow',\n",
    "                              cloud_shadow_fmask = 'no_cloud_shadow',\n",
    "                              cloud_fmask='no_cloud',\n",
    "                              blue_saturated = False,\n",
    "                              green_saturated = False,\n",
    "                              red_saturated = False,\n",
    "                              nir_saturated = False,\n",
    "                              swir1_saturated = False,\n",
    "                              swir2_saturated = False,\n",
    "                              contiguous=True)\n",
    "s3_good_data = s3_cloud_free.pixelquality.loc[start_of_epoch:end_of_epoch]\n",
    "sensor3_nbar = sensor3_nbar.where(s3_good_data)"
   ]
  },
  {
   "cell_type": "code",
   "execution_count": 27,
   "metadata": {
    "collapsed": false
   },
   "outputs": [],
   "source": [
    "all_indices = [#'BRIGHT','GREEN','WET',\n",
    "               'NDVI','NBR', 'NDWI','TSS']\n",
    "sensor3_rsindex = {}\n",
    "for i, name in enumerate(all_indices):\n",
    "    #sensor2_rsindex['BRIGHT'] = pd.DataFrame((s1[0]*0.3037)+(s1[1]*0.2793)+(s1[2]*0.4343)+(s1[3]*0.5585)+(s1[4]*0.5082)+(s1[0]*0.1863))\n",
    "    #sensor2_rsindex['GREEN'] = pd.DataFrame((s1[0]*-0.2848)+(s1[1]*-0.2435)+(s1[2]*-0.5436)+(s1[3]*0.7243)+(s1[4]*0.0840)+(s1[0]*-0.1800))\n",
    "    #sensor2_rsindex['WET'] = pd.DataFrame((s1[0]*0.1509)+(s1[1]*0.1793)+(s1[2]*0.3299)+(s1[3]*0.3406)+(s1[4]*-0.7112)+(s1[0]*-0.4572))\n",
    "    sensor3_rsindex['NDVI'] = ((sensor3_nbar['nir']-sensor3_nbar['red'])/(sensor3_nbar['nir']+sensor3_nbar['red']))\n",
    "    #sensor3_rsindex['NDWI'] = ((sensor3_nbar['swir1']-sensor3_nbar['green'])/(sensor3_nbar['swir1']+sensor3_nbar['green']))\n",
    "    #sensor3_rsindex['NBR'] = ((sensor3_nbar['nir']-sensor3_nbar['swir2'])/(sensor3_nbar['nir']+sensor3_nbar['swir2']))\n",
    "    #sensor3_rsindex['TSS'] = ((sensor3_nbar['green']+sensor3_nbar['red'])/2)\n",
    "    #sensor3_rsindex['TSS'] = (ls5_tss_constant*((sensor3_nbar['green']+sensor3_nbar['red'])/20000)**ls5_tss_exponent)\n",
    "    sensor3_rsindex['NDBI'] = ((sensor3_nbar['swir1']-sensor3_nbar['nir'])/(sensor3_nbar['swir1']+sensor3_nbar['nir']))\n"
   ]
  },
  {
   "cell_type": "markdown",
   "metadata": {},
   "source": [
    "## Combining data from multiple sensors\n",
    "Having masked out cloud and cloud shadow affected pixels and calculated various indices we can now combine the measurements from the different sensors to create full depth time series"
   ]
  },
  {
   "cell_type": "code",
   "execution_count": 28,
   "metadata": {
    "collapsed": false
   },
   "outputs": [
    {
     "ename": "MemoryError",
     "evalue": "",
     "output_type": "error",
     "traceback": [
      "\u001b[0;31m\u001b[0m",
      "\u001b[0;31mMemoryError\u001b[0mTraceback (most recent call last)",
      "\u001b[0;32m<ipython-input-28-eb07af41dbc9>\u001b[0m in \u001b[0;36m<module>\u001b[0;34m()\u001b[0m\n\u001b[1;32m      3\u001b[0m \u001b[0mnbar_clean\u001b[0m \u001b[0;34m=\u001b[0m \u001b[0mxr\u001b[0m\u001b[0;34m.\u001b[0m\u001b[0mconcat\u001b[0m\u001b[0;34m(\u001b[0m\u001b[0;34m[\u001b[0m\u001b[0msensor1_nbar\u001b[0m\u001b[0;34m,\u001b[0m \u001b[0msensor2_nbar\u001b[0m\u001b[0;34m,\u001b[0m \u001b[0msensor3_nbar\u001b[0m\u001b[0;34m]\u001b[0m\u001b[0;34m,\u001b[0m \u001b[0mdim\u001b[0m\u001b[0;34m=\u001b[0m\u001b[0;34m'time'\u001b[0m\u001b[0;34m)\u001b[0m\u001b[0;34m\u001b[0m\u001b[0m\n\u001b[1;32m      4\u001b[0m \u001b[0mtime_sorted\u001b[0m \u001b[0;34m=\u001b[0m \u001b[0mnbar_clean\u001b[0m\u001b[0;34m.\u001b[0m\u001b[0mtime\u001b[0m\u001b[0;34m.\u001b[0m\u001b[0margsort\u001b[0m\u001b[0;34m(\u001b[0m\u001b[0;34m)\u001b[0m\u001b[0;34m\u001b[0m\u001b[0m\n\u001b[0;32m----> 5\u001b[0;31m \u001b[0mnbar_clean\u001b[0m \u001b[0;34m=\u001b[0m \u001b[0mnbar_clean\u001b[0m\u001b[0;34m.\u001b[0m\u001b[0misel\u001b[0m\u001b[0;34m(\u001b[0m\u001b[0mtime\u001b[0m\u001b[0;34m=\u001b[0m\u001b[0mtime_sorted\u001b[0m\u001b[0;34m)\u001b[0m\u001b[0;34m\u001b[0m\u001b[0m\n\u001b[0m\u001b[1;32m      6\u001b[0m \u001b[0mnbar_clean\u001b[0m\u001b[0;34m.\u001b[0m\u001b[0mattrs\u001b[0m\u001b[0;34m[\u001b[0m\u001b[0;34m'crs'\u001b[0m\u001b[0;34m]\u001b[0m \u001b[0;34m=\u001b[0m \u001b[0mcrs\u001b[0m\u001b[0;34m\u001b[0m\u001b[0m\n\u001b[1;32m      7\u001b[0m \u001b[0mnbar_clean\u001b[0m\u001b[0;34m.\u001b[0m\u001b[0mattrs\u001b[0m\u001b[0;34m[\u001b[0m\u001b[0;34m'affine'\u001b[0m\u001b[0;34m]\u001b[0m \u001b[0;34m=\u001b[0m \u001b[0maffine\u001b[0m\u001b[0;34m\u001b[0m\u001b[0m\n",
      "\u001b[0;32m/g/data/v10/public/modules/agdc-py2-env/20160906/envs/agdc/lib/python2.7/site-packages/xarray/core/dataset.pyc\u001b[0m in \u001b[0;36misel\u001b[0;34m(self, **indexers)\u001b[0m\n\u001b[1;32m    910\u001b[0m         \u001b[0;32mfor\u001b[0m \u001b[0mname\u001b[0m\u001b[0;34m,\u001b[0m \u001b[0mvar\u001b[0m \u001b[0;32min\u001b[0m \u001b[0miteritems\u001b[0m\u001b[0;34m(\u001b[0m\u001b[0mself\u001b[0m\u001b[0;34m.\u001b[0m\u001b[0m_variables\u001b[0m\u001b[0;34m)\u001b[0m\u001b[0;34m:\u001b[0m\u001b[0;34m\u001b[0m\u001b[0m\n\u001b[1;32m    911\u001b[0m             \u001b[0mvar_indexers\u001b[0m \u001b[0;34m=\u001b[0m \u001b[0mdict\u001b[0m\u001b[0;34m(\u001b[0m\u001b[0;34m(\u001b[0m\u001b[0mk\u001b[0m\u001b[0;34m,\u001b[0m \u001b[0mv\u001b[0m\u001b[0;34m)\u001b[0m \u001b[0;32mfor\u001b[0m \u001b[0mk\u001b[0m\u001b[0;34m,\u001b[0m \u001b[0mv\u001b[0m \u001b[0;32min\u001b[0m \u001b[0mindexers\u001b[0m \u001b[0;32mif\u001b[0m \u001b[0mk\u001b[0m \u001b[0;32min\u001b[0m \u001b[0mvar\u001b[0m\u001b[0;34m.\u001b[0m\u001b[0mdims\u001b[0m\u001b[0;34m)\u001b[0m\u001b[0;34m\u001b[0m\u001b[0m\n\u001b[0;32m--> 912\u001b[0;31m             \u001b[0mvariables\u001b[0m\u001b[0;34m[\u001b[0m\u001b[0mname\u001b[0m\u001b[0;34m]\u001b[0m \u001b[0;34m=\u001b[0m \u001b[0mvar\u001b[0m\u001b[0;34m.\u001b[0m\u001b[0misel\u001b[0m\u001b[0;34m(\u001b[0m\u001b[0;34m**\u001b[0m\u001b[0mvar_indexers\u001b[0m\u001b[0;34m)\u001b[0m\u001b[0;34m\u001b[0m\u001b[0m\n\u001b[0m\u001b[1;32m    913\u001b[0m         \u001b[0;32mreturn\u001b[0m \u001b[0mself\u001b[0m\u001b[0;34m.\u001b[0m\u001b[0m_replace_vars_and_dims\u001b[0m\u001b[0;34m(\u001b[0m\u001b[0mvariables\u001b[0m\u001b[0;34m)\u001b[0m\u001b[0;34m\u001b[0m\u001b[0m\n\u001b[1;32m    914\u001b[0m \u001b[0;34m\u001b[0m\u001b[0m\n",
      "\u001b[0;32m/g/data/v10/public/modules/agdc-py2-env/20160906/envs/agdc/lib/python2.7/site-packages/xarray/core/variable.pyc\u001b[0m in \u001b[0;36misel\u001b[0;34m(self, **indexers)\u001b[0m\n\u001b[1;32m    539\u001b[0m             \u001b[0;32mif\u001b[0m \u001b[0mdim\u001b[0m \u001b[0;32min\u001b[0m \u001b[0mindexers\u001b[0m\u001b[0;34m:\u001b[0m\u001b[0;34m\u001b[0m\u001b[0m\n\u001b[1;32m    540\u001b[0m                 \u001b[0mkey\u001b[0m\u001b[0;34m[\u001b[0m\u001b[0mi\u001b[0m\u001b[0;34m]\u001b[0m \u001b[0;34m=\u001b[0m \u001b[0mindexers\u001b[0m\u001b[0;34m[\u001b[0m\u001b[0mdim\u001b[0m\u001b[0;34m]\u001b[0m\u001b[0;34m\u001b[0m\u001b[0m\n\u001b[0;32m--> 541\u001b[0;31m         \u001b[0;32mreturn\u001b[0m \u001b[0mself\u001b[0m\u001b[0;34m[\u001b[0m\u001b[0mtuple\u001b[0m\u001b[0;34m(\u001b[0m\u001b[0mkey\u001b[0m\u001b[0;34m)\u001b[0m\u001b[0;34m]\u001b[0m\u001b[0;34m\u001b[0m\u001b[0m\n\u001b[0m\u001b[1;32m    542\u001b[0m \u001b[0;34m\u001b[0m\u001b[0m\n\u001b[1;32m    543\u001b[0m     \u001b[0;32mdef\u001b[0m \u001b[0m_shift_one_dim\u001b[0m\u001b[0;34m(\u001b[0m\u001b[0mself\u001b[0m\u001b[0;34m,\u001b[0m \u001b[0mdim\u001b[0m\u001b[0;34m,\u001b[0m \u001b[0mcount\u001b[0m\u001b[0;34m)\u001b[0m\u001b[0;34m:\u001b[0m\u001b[0;34m\u001b[0m\u001b[0m\n",
      "\u001b[0;32m/g/data/v10/public/modules/agdc-py2-env/20160906/envs/agdc/lib/python2.7/site-packages/xarray/core/variable.pyc\u001b[0m in \u001b[0;36m__getitem__\u001b[0;34m(self, key)\u001b[0m\n\u001b[1;32m    374\u001b[0m         dims = tuple(dim for k, dim in zip(key, self.dims)\n\u001b[1;32m    375\u001b[0m                      if not isinstance(k, (int, np.integer)))\n\u001b[0;32m--> 376\u001b[0;31m         \u001b[0mvalues\u001b[0m \u001b[0;34m=\u001b[0m \u001b[0mself\u001b[0m\u001b[0;34m.\u001b[0m\u001b[0m_indexable_data\u001b[0m\u001b[0;34m[\u001b[0m\u001b[0mkey\u001b[0m\u001b[0;34m]\u001b[0m\u001b[0;34m\u001b[0m\u001b[0m\n\u001b[0m\u001b[1;32m    377\u001b[0m         \u001b[0;31m# orthogonal indexing should ensure the dimensionality is consistent\u001b[0m\u001b[0;34m\u001b[0m\u001b[0;34m\u001b[0m\u001b[0m\n\u001b[1;32m    378\u001b[0m         \u001b[0;32mif\u001b[0m \u001b[0mhasattr\u001b[0m\u001b[0;34m(\u001b[0m\u001b[0mvalues\u001b[0m\u001b[0;34m,\u001b[0m \u001b[0;34m'ndim'\u001b[0m\u001b[0;34m)\u001b[0m\u001b[0;34m:\u001b[0m\u001b[0;34m\u001b[0m\u001b[0m\n",
      "\u001b[0;32m/g/data/v10/public/modules/agdc-py2-env/20160906/envs/agdc/lib/python2.7/site-packages/xarray/core/indexing.pyc\u001b[0m in \u001b[0;36m__getitem__\u001b[0;34m(self, key)\u001b[0m\n\u001b[1;32m    408\u001b[0m     \u001b[0;32mdef\u001b[0m \u001b[0m__getitem__\u001b[0m\u001b[0;34m(\u001b[0m\u001b[0mself\u001b[0m\u001b[0;34m,\u001b[0m \u001b[0mkey\u001b[0m\u001b[0;34m)\u001b[0m\u001b[0;34m:\u001b[0m\u001b[0;34m\u001b[0m\u001b[0m\n\u001b[1;32m    409\u001b[0m         \u001b[0mkey\u001b[0m \u001b[0;34m=\u001b[0m \u001b[0mself\u001b[0m\u001b[0;34m.\u001b[0m\u001b[0m_convert_key\u001b[0m\u001b[0;34m(\u001b[0m\u001b[0mkey\u001b[0m\u001b[0;34m)\u001b[0m\u001b[0;34m\u001b[0m\u001b[0m\n\u001b[0;32m--> 410\u001b[0;31m         \u001b[0;32mreturn\u001b[0m \u001b[0mself\u001b[0m\u001b[0;34m.\u001b[0m\u001b[0m_ensure_ndarray\u001b[0m\u001b[0;34m(\u001b[0m\u001b[0mself\u001b[0m\u001b[0;34m.\u001b[0m\u001b[0marray\u001b[0m\u001b[0;34m[\u001b[0m\u001b[0mkey\u001b[0m\u001b[0;34m]\u001b[0m\u001b[0;34m)\u001b[0m\u001b[0;34m\u001b[0m\u001b[0m\n\u001b[0m\u001b[1;32m    411\u001b[0m \u001b[0;34m\u001b[0m\u001b[0m\n\u001b[1;32m    412\u001b[0m     \u001b[0;32mdef\u001b[0m \u001b[0m__setitem__\u001b[0m\u001b[0;34m(\u001b[0m\u001b[0mself\u001b[0m\u001b[0;34m,\u001b[0m \u001b[0mkey\u001b[0m\u001b[0;34m,\u001b[0m \u001b[0mvalue\u001b[0m\u001b[0;34m)\u001b[0m\u001b[0;34m:\u001b[0m\u001b[0;34m\u001b[0m\u001b[0m\n",
      "\u001b[0;31mMemoryError\u001b[0m: "
     ]
    }
   ],
   "source": [
    "#Concatenate and sort the different sensor xarrays into a single xarray\n",
    "\n",
    "nbar_clean = xr.concat([sensor1_nbar, sensor2_nbar, sensor3_nbar], dim='time')\n",
    "time_sorted = nbar_clean.time.argsort()\n",
    "nbar_clean = nbar_clean.isel(time=time_sorted)\n",
    "nbar_clean.attrs['crs'] = crs\n",
    "nbar_clean.attrs['affine'] = affine\n",
    "\n",
    "\n",
    "'''\n",
    "all_tss_sorted = xr.concat([sensor1_rsindex['TSS'], sensor2_rsindex['TSS'], sensor3_rsindex['TSS']], dim='time')\n",
    "time_sorted = all_tss_sorted.time.argsort()\n",
    "all_tss_sorted = all_tss_sorted.isel(time=time_sorted)\n",
    "all_tss_sorted.attrs['crs'] = crs\n",
    "nbar_clean.attrs['affine'] = affine'''\n",
    "\n",
    "all_ndvi_sorted = xr.concat([sensor1_rsindex['NDVI'], sensor2_rsindex['NDVI'], sensor3_rsindex['NDVI']], dim='time')\n",
    "time_sorted = all_ndvi_sorted.time.argsort()\n",
    "all_ndvi_sorted = all_ndvi_sorted.isel(time=time_sorted)\n",
    "all_ndvi_sorted.attrs['crs'] = crs\n",
    "all_ndvi_sorted.attrs['affine'] = affine\n",
    "\n",
    "all_ndbi_sorted = xr.concat([sensor1_rsindex['NDBI'], sensor2_rsindex['NDBI'], sensor3_rsindex['NDBI']], dim='time')\n",
    "time_sorted = all_ndbi_sorted.time.argsort()\n",
    "all_ndbi_sorted = all_ndbi_sorted.isel(time=time_sorted)\n",
    "all_ndbi_sorted.attrs['crs'] = crs\n",
    "all_ndbi_sorted.attrs['affine'] = affine\n",
    "\n",
    "\"\"\"all_nbr_sorted = xr.concat([sensor1_rsindex['NBR'], sensor2_rsindex['NBR'], sensor3_rsindex['NBR']], dim='time')\n",
    "time_sorted = all_nbr_sorted.time.argsort()\n",
    "all_nbr_sorted = all_nbr_sorted.isel(time=time_sorted)\n",
    "all_nbr_sorted.attrs['crs'] = crs\n",
    "nbar_clean.attrs['affine'] = affine\n",
    "\"\"\"\n"
   ]
  },
  {
   "cell_type": "code",
   "execution_count": null,
   "metadata": {
    "collapsed": true
   },
   "outputs": [],
   "source": [
    "#clean up per sensor xarrays to free up some memory\n",
    "del sensor1_nbar\n",
    "del sensor2_nbar\n",
    "del sensor3_nbar\n",
    "del sensor1_rsindex\n",
    "del sensor2_rsindex\n",
    "del sensor3_rsindex"
   ]
  },
  {
   "cell_type": "code",
   "execution_count": null,
   "metadata": {
    "collapsed": false
   },
   "outputs": [],
   "source": [
    "#geom_w = warp_geometry(geom, query['crs'], crs)\n",
    "#trans = transect(sensor1_nbar, geom_w, 25)\n"
   ]
  },
  {
   "cell_type": "code",
   "execution_count": null,
   "metadata": {
    "collapsed": false
   },
   "outputs": [],
   "source": [
    "#trans.red.plot(x='distance', y='time')"
   ]
  },
  {
   "cell_type": "markdown",
   "metadata": {},
   "source": [
    "The returned data is an `xarray.Dataset` object, which is a labelled n-dimensional array wrapping a `numpy` array.\n",
    "\n",
    "We can investigate the data to see the variables (measurement bands) and dimensions that were returned:"
   ]
  },
  {
   "cell_type": "markdown",
   "metadata": {},
   "source": [
    "## Plotting a multi-band image"
   ]
  },
  {
   "cell_type": "code",
   "execution_count": null,
   "metadata": {
    "collapsed": false
   },
   "outputs": [],
   "source": [
    "print 'The number of time slices at this location is' \n",
    "print nbar_clean.red.shape[0]"
   ]
  },
  {
   "cell_type": "code",
   "execution_count": null,
   "metadata": {
    "collapsed": false
   },
   "outputs": [],
   "source": [
    "#select time slice of interest\n",
    "time_slice = 956\n",
    "rgb = nbar_clean.isel(time =time_slice).to_array(dim='color').sel(color=['swir1', 'nir', 'green']).transpose('y', 'x', 'color')\n",
    "#rgb = nbar_clean.isel(time =time_slice).to_array(dim='color').sel(color=['swir1', 'nir', 'green']).transpose('y', 'x', 'color')\n",
    "fake_saturation = 4500\n",
    "clipped_visible = rgb.where(rgb<fake_saturation).fillna(fake_saturation)\n",
    "max_val = clipped_visible.max(['y', 'x'])\n",
    "scaled = (clipped_visible / max_val)\n",
    "\n",
    "#imshow(scaled, interpolation = 'nearest')"
   ]
  },
  {
   "cell_type": "code",
   "execution_count": null,
   "metadata": {
    "collapsed": false
   },
   "outputs": [],
   "source": [
    "#Click on this image to chose the location for the Hovmoller extraction\n",
    "w = widgets.HTML(\"Event information appears here when you click on the figure\")\n",
    "\n",
    "\n",
    "def callback(event):\n",
    "    global x, y\n",
    "    x, y = int(event.xdata + 0.5), int(event.ydata + 0.5)\n",
    "    w.value = 'X: {}, Y: {}'.format(x,y)\n",
    "\n",
    "fig = plt.figure(figsize =(7,6))\n",
    "plt.imshow(scaled)\n",
    "#plt.scatter(x=[x], y=[y], c='r')\n",
    "#plt.plot([0, all_nbr_sorted.shape[2]], [y,y], 'r')\n",
    "\n",
    "#plt.grid(True)\n",
    "fig.canvas.mpl_connect('button_press_event', callback)\n",
    "date_ = nbar_clean.time[time_slice]\n",
    "plt.title(date_.astype('datetime64[D]'))\n",
    "plt.show()\n",
    "display(w)"
   ]
  },
  {
   "cell_type": "code",
   "execution_count": null,
   "metadata": {
    "collapsed": false
   },
   "outputs": [],
   "source": [
    "x, y"
   ]
  },
  {
   "cell_type": "code",
   "execution_count": null,
   "metadata": {
    "collapsed": false
   },
   "outputs": [],
   "source": [
    "#shows the location selected by the click from which the two time series will be retrieved\n",
    "fig = plt.figure(figsize =(7,6))\n",
    "plt.imshow(scaled)\n",
    "plt.scatter(x=[x], y=[y], c='r')\n",
    "#plt.plot([0, all_nbr_sorted.shape[2]], [y,y], 'r')\n",
    "plt.title(date_.astype('datetime64[D]'))\n",
    "plt.show()"
   ]
  },
  {
   "cell_type": "code",
   "execution_count": null,
   "metadata": {
    "collapsed": false
   },
   "outputs": [],
   "source": [
    "#Use this plot to visualise NDVI and NDBI time series\n",
    "fig = plt.figure(figsize=(8,5))\n",
    "\n",
    "all_ndvi_sorted.isel(x=[x],y=[y]).dropna('time', how = 'any').plot(linestyle= '--', c= 'r', marker = '8', mec = 'b', mfc ='r')\n",
    "all_ndbi_sorted.isel(x=[x],y=[y]).dropna('time', how = 'any').plot(linestyle= '--', c= 'b', marker = '8', mec = 'b', mfc ='b')\n",
    "#plt.axis([firstyear , lastyear , -0.5, 0.9])\n",
    "plt.title('recent suburb')\n",
    "plt.grid()"
   ]
  },
  {
   "cell_type": "code",
   "execution_count": null,
   "metadata": {
    "collapsed": false
   },
   "outputs": [],
   "source": [
    "test = all_ndvi_sorted.isel(x=[x],y=[y]).dropna('time', how = 'any')"
   ]
  },
  {
   "cell_type": "code",
   "execution_count": null,
   "metadata": {
    "collapsed": false
   },
   "outputs": [],
   "source": [
    "fig = plt.figure(figsize=(8,5))\n",
    "\n",
    "(1/test.groupby('time.year').std(dim = 'time')).plot()\n",
    "#test.groupby('time.year').mean(dim = 'time').plot()"
   ]
  },
  {
   "cell_type": "code",
   "execution_count": null,
   "metadata": {
    "collapsed": false
   },
   "outputs": [],
   "source": [
    "#fig = plt.figure(figsize=(8,5))\n",
    "\n",
    "ndvi_annual_sd = all_ndvi_sorted.groupby('time.year').std(dim = 'time')\n",
    "#test.groupby('time.year').mean(dim = 'time').plot()"
   ]
  },
  {
   "cell_type": "code",
   "execution_count": null,
   "metadata": {
    "collapsed": false
   },
   "outputs": [],
   "source": [
    "fig = plt.figure(figsize=(8,5))\n",
    "\n",
    "imshow(1/(ndvi_annual_sd.sel(year = 2015)), vmin = 0, vmax = 40)\n"
   ]
  },
  {
   "cell_type": "code",
   "execution_count": null,
   "metadata": {
    "collapsed": false
   },
   "outputs": [],
   "source": [
    "test = (1/(ndvi_annual_sd.sel(year = 2015)))\n"
   ]
  },
  {
   "cell_type": "code",
   "execution_count": null,
   "metadata": {
    "collapsed": true
   },
   "outputs": [],
   "source": [
    "test."
   ]
  },
  {
   "cell_type": "code",
   "execution_count": null,
   "metadata": {
    "collapsed": true
   },
   "outputs": [],
   "source": [
    "ndbi_annual_mean = all_ndbi_sorted.groupby('time.year').mean(dim = 'time')\n"
   ]
  },
  {
   "cell_type": "code",
   "execution_count": null,
   "metadata": {
    "collapsed": false
   },
   "outputs": [],
   "source": [
    "fig = plt.figure(figsize=(8,5))\n",
    "\n",
    "imshow(ndbi_annual_mean.sel(year = 1988), vmin = 0, vmax = 0.1)"
   ]
  },
  {
   "cell_type": "code",
   "execution_count": null,
   "metadata": {
    "collapsed": false
   },
   "outputs": [],
   "source": [
    "fig = plt.figure(figsize=(7,4))\n",
    "\n",
    "#Define coordinates of interest\n",
    "timeactual = all_ndvi_sorted.time[time_slice]\n",
    "\n",
    "tss_min = 0\n",
    "tss_max = 2000\n",
    "plt.scatter(x=[x], y=[y], c='r')\n",
    "\n",
    "plt.plot([0, all_ndvi_sorted.shape[2]], [y,y], 'r')\n",
    "#plt.plot([x,x], [0, all_ndvi_sorted.shape[1]], 'aquamarine')\n",
    "\n",
    "ndvi_cmap = mpl.colors.ListedColormap(['blue', '#ffcc66','#ffffcc' , '#ccff66' , '#2eb82e', '#009933' , '#006600'])\n",
    "tss_cmap = mpl.colors.ListedColormap(['navy', 'blue', 'deepskyblue','aquamarine' , 'burlywood' , 'saddlebrown'])\n",
    "nbr_cmap = mpl.colors.ListedColormap(['darkslategray','dimgray' , 'lightgrey' , '#ccff66' , '#2eb82e', '#009933'])\n",
    "\n",
    "ndvi_bounds = [-1, 0, 0.1, 0.2, 0.3, 0.5, 0.8, 1]\n",
    "nbr_bounds = [-1, -0.1, 0, 0.1, 0.2, 0.4, 0.6]\n",
    "tss_bounds = [0, 10, 20, 50, 80, 100, 150]\n",
    "\n",
    "tss_norm = mpl.colors.BoundaryNorm(tss_bounds, tss_cmap.N)\n",
    "ndvi_norm = mpl.colors.BoundaryNorm(ndvi_bounds, ndvi_cmap.N)\n",
    "nbr_norm = mpl.colors.BoundaryNorm(nbr_bounds, nbr_cmap.N)\n",
    "\n",
    "imshow(all_ndbi_sorted.isel(time = time_slice), cmap = ndvi_cmap, norm = ndvi_norm)\n",
    "#imshow(all_nbr_sorted.isel(time = time_slice), cmap = nbr_cmap, norm = nbr_norm)\n",
    "\n",
    "\n",
    "print timeactual.astype(datetime64)"
   ]
  },
  {
   "cell_type": "code",
   "execution_count": null,
   "metadata": {
    "collapsed": false,
    "scrolled": true
   },
   "outputs": [],
   "source": [
    "#Use this to select the first location from which to retrieve a time series\n",
    "w = widgets.HTML(\"Event information appears here when you click on the figure\")\n",
    "\n",
    "\n",
    "def callback(event):\n",
    "    global mapx, hovtime\n",
    "    mapx, hovtime = int(event.xdata + 0.5), int(event.ydata + 0.5)\n",
    "    w.value = 'X: {}, Y: {}'.format(x,y)\n",
    "\n",
    "fig = plt.figure(figsize=(11.69,8.27))\n",
    "\n",
    "\n",
    "all_ndbi_sorted.isel(#x=[x],\n",
    "                     y=[y]\n",
    "                     ).plot(norm= ndvi_norm, cmap = ndvi_cmap, yincrease = False)\n",
    "\n",
    "\n",
    "plt.grid(color = 'r', linestyle = '-')\n",
    "fig.canvas.mpl_connect('button_press_event', callback)\n",
    "\n",
    "plt.show()\n",
    "display(w)\n"
   ]
  },
  {
   "cell_type": "code",
   "execution_count": null,
   "metadata": {
    "collapsed": false
   },
   "outputs": [],
   "source": [
    "#this converts the map x coordinate into image x coordinates\n",
    "~nbar_clean.affine * (mapx, -1456812)\n",
    "image_coords = ~nbar_clean.affine * (mapx, -1456812)\n",
    "imagex = int(image_coords[0])\n",
    "imagex\n",
    "#good example at 563"
   ]
  },
  {
   "cell_type": "code",
   "execution_count": null,
   "metadata": {
    "collapsed": false
   },
   "outputs": [],
   "source": [
    "#This will show the location of the first time series you selected and allows \n",
    "#you to select the location of a second time series\n",
    "w = widgets.HTML(\"Event information appears here when you click on the figure\")\n",
    "\n",
    "\n",
    "def callback(event):\n",
    "    global mapx2, hovtime\n",
    "    mapx2, hovtime = int(event.xdata + 0.5), int(event.ydata + 0.5)\n",
    "    w.value = 'X: {}, Y: {}'.format(x,y)\n",
    "\n",
    "fig = plt.figure(figsize=(11.69,8.27))\n",
    "\n",
    "\n",
    "all_ndvi_sorted.isel(#x=[x],\n",
    "                     y=[y]\n",
    "                     ).plot(norm= ndvi_norm, cmap = ndvi_cmap, yincrease = False)\n",
    "\n",
    "plt.plot([mapx, mapx],[start_of_epoch, end_of_epoch], 'r')\n",
    "\n",
    "#plt.grid(True)\n",
    "fig.canvas.mpl_connect('button_press_event', callback)\n",
    "\n",
    "plt.show()\n",
    "display(w)"
   ]
  },
  {
   "cell_type": "code",
   "execution_count": null,
   "metadata": {
    "collapsed": false
   },
   "outputs": [],
   "source": [
    "~nbar_clean.affine * (mapx2, -1456812)\n",
    "image_coords2 = ~nbar_clean.affine * (mapx2, -1456812)\n",
    "imagex2 = int(image_coords2[0])\n",
    "imagex2\n",
    "#good example at 1309"
   ]
  },
  {
   "cell_type": "code",
   "execution_count": null,
   "metadata": {
    "collapsed": false
   },
   "outputs": [],
   "source": [
    "#Use this to convert between map coordinates and image raster x/y coordinates\n",
    "#This is an ugly cludge to get the x min and max coordinates out to specify axis coordinates for axis subsetting\n",
    "sx = nbar_clean.affine * (0, -1449300.0) \n",
    "ex = nbar_clean.affine * (nbar_clean.swir1.shape[2], -1449300.0 )\n",
    "startx = sx[0]\n",
    "endx = ex[0]\n",
    "print startx \n",
    "print endx"
   ]
  },
  {
   "cell_type": "code",
   "execution_count": null,
   "metadata": {
    "collapsed": false
   },
   "outputs": [],
   "source": [
    "fig = plt.figure(figsize=(11.69,8.27))\n",
    "#use firstyear and last year to focus in on a particular epoch\n",
    "firstyear = '2012-01-01'\n",
    "lastyear = '2016-12-31'\n",
    "all_ndvi_sorted.isel(#x=[x],\n",
    "                     y=[y]\n",
    "                     ).plot(norm= ndvi_norm, cmap = ndvi_cmap, yincrease = False)\n",
    "plt.plot([mapx, mapx],[start_of_epoch, end_of_epoch], 'r')\n",
    "plt.plot([mapx2, mapx2],[start_of_epoch, end_of_epoch], 'b')\n",
    "#plt.axis([startx, endx, lastyear , firstyear])\n",
    "\n"
   ]
  },
  {
   "cell_type": "code",
   "execution_count": null,
   "metadata": {
    "collapsed": false
   },
   "outputs": [],
   "source": [
    "print mapx\n",
    "print imagex\n",
    "print mapx2\n",
    "print imagex2"
   ]
  },
  {
   "cell_type": "code",
   "execution_count": null,
   "metadata": {
    "collapsed": false
   },
   "outputs": [],
   "source": [
    "#Use this plot to visualise NBR time series\n",
    "fig = plt.figure(figsize=(8,5))\n",
    "\n",
    "all_ndvi_sorted.isel(x=[imagex2],y=[y]).dropna('time', how = 'any').plot(linestyle= '--', c= 'r', marker = '8', mec = 'b', mfc ='r')\n",
    "all_ndbi_sorted.isel(x=[imagex2],y=[y]).dropna('time', how = 'any').plot(linestyle= '--', c= 'b', marker = '8', mec = 'b', mfc ='b')\n",
    "#plt.axis([firstyear , lastyear , -0.5, 0.9])\n",
    "plt.grid()"
   ]
  },
  {
   "cell_type": "code",
   "execution_count": null,
   "metadata": {
    "collapsed": false,
    "scrolled": true
   },
   "outputs": [],
   "source": [
    "'''#This cell allows you to plot NDVI for terrestrial targets and TSS for aquatic targets in the same figure\n",
    "fig = plt.figure(figsize=(11.69,8.27))\n",
    "\n",
    "#water_only = all_tss_sorted.where(nbar_clean_sorted['swir1']<1000)\n",
    "#water_only.isel(#x=[x],\n",
    "#                     y=[y]\n",
    "#                     ).plot(cmap = tss_cmap, norm = tss_norm, yincrease = False)\n",
    "land_only = all_ndvi_sorted.where(nbar_clean_sorted['swir1']>1000)\n",
    "land_only.isel(#x=[x],\n",
    "                     y=[y]\n",
    "                     ).plot(cmap = ndvi_cmap, norm = ndvi_norm, yincrease = False)'''"
   ]
  },
  {
   "cell_type": "code",
   "execution_count": null,
   "metadata": {
    "collapsed": false,
    "scrolled": false
   },
   "outputs": [],
   "source": [
    "#Use this plot to visualise TSS time series and select the image that corresponds with a point in the time series\n",
    "def callback(event):\n",
    "    global time_int, devent\n",
    "    devent = event\n",
    "    time_int = event.xdata\n",
    "    #time_int_ = time_int.astype(datetime64[D])\n",
    "    w.value = 'time_int: {}'.format(time_int)\n",
    "\n",
    "fig = plt.figure()\n",
    "\n",
    "\n",
    "fig.canvas.mpl_connect('button_press_event', callback)\n",
    "\n",
    "plt.show()\n",
    "display(w)\n",
    "\n",
    "firstyear = '2004-01-01'\n",
    "lastyear = '2016-12-31'\n",
    "#all_nbr_sorted.isel(x=[imagex],y=[y]).dropna('time', how = 'any').plot(linestyle= '--', c= 'r', marker = '8', mec = 'b', mfc ='r')\n",
    "all_ndvi_sorted.isel(x=[imagex2],y=[y]).dropna('time', how = 'any').plot(linestyle= '--', c= 'b', marker = '8', mec = 'b', mfc ='b')\n",
    "\n",
    "#water_only.isel(x=[imagex2],y=[y]).dropna('time', how = 'any').plot(linestyle= '--', c= 'm', marker = '8', mec = 'b', mfc ='m')\n",
    "plt.axis([firstyear , lastyear ,0, 1])"
   ]
  },
  {
   "cell_type": "code",
   "execution_count": null,
   "metadata": {
    "collapsed": false
   },
   "outputs": [],
   "source": [
    "ts = all_ndvi_sorted.isel(x=[x],y=[y]).dropna('time', how = 'any')\n",
    "#ts"
   ]
  },
  {
   "cell_type": "code",
   "execution_count": null,
   "metadata": {
    "collapsed": false
   },
   "outputs": [],
   "source": [
    "\n",
    "#This is the phenology stacking code from Chris Holden - Boston University\n",
    "import datetime as dt\n",
    "import matplotlib as mpl\n",
    "import matplotlib.pyplot as plt\n",
    "\n",
    "mpl.style.use('seaborn-dark')\n",
    "\n",
    "#MEASUREMENT = 'nir'\n",
    "\n",
    "# Given ``data`` is an xarray.Dataset with dimensions ('time', 'y', 'x')\n",
    "pix = ts\n",
    "\n",
    "fig, ax = plt.subplots()\n",
    "\n",
    "# Grabbing the day of year (for xaxis) and year (for color) made easier with xarray\n",
    "sp = ax.scatter(pix['time.dayofyear'], pix, c=pix['time.year'],\n",
    "                cmap=mpl.cm.jet, marker='o', edgecolor='none', s=35)\n",
    "fig.colorbar(sp)\n",
    "\n",
    "# If you want the months to show up as minor ticks...\n",
    "month_doys = [dt.date(2000, m, 15).timetuple().tm_yday for m in range(1, 13)]\n",
    "months = mpl.ticker.FixedLocator(month_doys)\n",
    "months_fmrt = mpl.dates.DateFormatter('%b')\n",
    "\n",
    "ax.xaxis.set_ticks(month_doys, minor=True)\n",
    "ax.tick_params(axis='x', which='minor', direction='in', pad=-10)\n",
    "ax.xaxis.set_minor_locator(months)\n",
    "ax.xaxis.set_minor_formatter(months_fmrt)\n",
    "\n",
    "# Labels and axis limits are good\n",
    "ax.grid(True)\n",
    "ax.set_xlim((0, 366))\n",
    "ax.set_ylim((0, 0.8))\n",
    "ax.set_xlabel('Day of Year')\n",
    "ax.set_ylabel('Normalised Burn Ratio')\n",
    "ax.set_title('Phenology \"DOY Plot\"')"
   ]
  },
  {
   "cell_type": "code",
   "execution_count": null,
   "metadata": {
    "collapsed": false
   },
   "outputs": [],
   "source": [
    "print nbar_clean.red.shape[0]\n",
    "\n",
    "\n"
   ]
  },
  {
   "cell_type": "code",
   "execution_count": null,
   "metadata": {
    "collapsed": false
   },
   "outputs": [],
   "source": [
    "#select time slice of interest\n",
    "time_slice = 385\n",
    "rgb = nbar_clean.isel(time =time_slice).to_array(dim='color').sel(color=['swir1', 'nir', 'green']).transpose('y', 'x', 'color')\n",
    "#rgb = nbar_clean.isel(time =time_slice).to_array(dim='color').sel(color=['swir1', 'nir', 'green']).transpose('y', 'x', 'color')\n",
    "date_ = nbar_clean.time[time_slice].values\n",
    "print pd.to_datetime(date_).strftime('%Y-%m-%d')\n",
    "fake_saturation = 6000\n",
    "clipped_visible = rgb.where(rgb<fake_saturation).fillna(fake_saturation)\n",
    "max_val = clipped_visible.max(['y', 'x'])\n",
    "scaled = (clipped_visible / max_val)"
   ]
  },
  {
   "cell_type": "code",
   "execution_count": null,
   "metadata": {
    "collapsed": false
   },
   "outputs": [],
   "source": [
    "fig = plt.figure(figsize=(11.69,5))\n",
    "#plt.plot([x,x], [0, all_ndvi_sorted.shape[1]], 'aquamarine')\n",
    "plt.plot([0, all_ndvi_sorted.shape[2]], [y,y], 'r')\n",
    "plt.scatter(x=[imagex], y=[y], c='r')\n",
    "plt.scatter(x=[imagex2], y=[y], c='b')\n",
    "\n",
    "\n",
    "imshow(scaled)"
   ]
  },
  {
   "cell_type": "code",
   "execution_count": null,
   "metadata": {
    "collapsed": true
   },
   "outputs": [],
   "source": [
    "#scaled1 = scaled\n",
    "#scaled2 = scaled\n",
    "scaled3 = scaled"
   ]
  },
  {
   "cell_type": "code",
   "execution_count": null,
   "metadata": {
    "collapsed": false
   },
   "outputs": [],
   "source": [
    "#Select 3 time slices and populate the figure with them\n",
    "\n",
    "time_slice = 2\n",
    "time_slice2 = 242\n",
    "time_slice3 = 484\n",
    "\n",
    "\n",
    "date = nbar_clean.time[time_slice].values\n",
    "date2 = nbar_clean.time[time_slice2].values\n",
    "date3 = nbar_clean.time[time_slice3].values\n",
    "\n",
    "fig = plt.figure(figsize=(11.69,8.27))\n",
    "gs = gridspec.GridSpec(3, 2)\n",
    "ax1 = plt.subplot(gs[0, 0])\n",
    "ax1 = imshow(scaled1)\n",
    "ax1 = title(pd.to_datetime(date).strftime('%Y-%m-%d'))\n",
    "ax1 = plt.tick_params(axis = 'y', which = 'both', left = 'off', right = 'off', labelright = 'off', labelleft= 'off')\n",
    "ax1 = plt.tick_params(axis = 'x', which = 'both', bottom = 'off', top = 'off', labelbottom = 'off')\n",
    "ax1 = plt.axis('image')\n",
    "#ax1 = plt.plot([x,x], [0, all_ndvi_sorted.shape[1]], 'r')\n",
    "ax1 = plt.plot([0, all_ndvi_sorted.shape[2]], [y,y], 'r')\n",
    "\n",
    "\n",
    "\n",
    "ax2 = plt.subplot(gs[1, 0])\n",
    "ax2 = imshow(scaled2)\n",
    "ax2 = title(pd.to_datetime(date2).strftime('%Y-%m-%d'))\n",
    "ax2 = plt.tick_params(axis = 'y', which = 'both', left = 'off', right = 'off', labelright = 'off', labelleft= 'off')\n",
    "ax2 = plt.tick_params(axis = 'x', which = 'both', bottom = 'off', top = 'off', labelbottom = 'off')\n",
    "\n",
    "ax3 = plt.subplot(gs[2, 0])\n",
    "ax3 = imshow(scaled3)\n",
    "ax3 = title(pd.to_datetime(date3).strftime('%Y-%m-%d'))\n",
    "ax3 = plt.tick_params(axis = 'y', which = 'both', left = 'off', right = 'off', labelright = 'off', labelleft= 'off')\n",
    "ax3 = plt.tick_params(axis = 'x', which = 'both', bottom = 'off', top = 'off', labelbottom = 'off')\n",
    "\n",
    "\n",
    "\n",
    "ax4 = plt.subplot(gs[:,1])\n",
    "ax4 = plt.grid(color = 'r', linestyle = '--')\n",
    "#ax4 = imshow(rsindex_subs['NDWI'].as_matrix(range(3,len(rsindex_subs['NDVI'].columns))), aspect='auto', vmin=ndmin, vmax=ndmax)\n",
    "ax4 = all_ndvi_sorted.isel(#x=[x],\n",
    "                 y=[y]\n",
    "                 ).plot(norm= ndvi_norm, cmap = ndvi_cmap, yincrease = False)\n",
    "\n"
   ]
  },
  {
   "cell_type": "code",
   "execution_count": null,
   "metadata": {
    "collapsed": false
   },
   "outputs": [],
   "source": [
    "#Select 3 time slices and populate the figure with them\n",
    "\n",
    "\"\"\"time_slice = 4\n",
    "time_slice2 = 264\n",
    "time_slice3 = 522\"\"\"\n",
    "\n",
    "\n",
    "\n",
    "date = nbar_clean.time[time_slice].values\n",
    "date2 = nbar_clean.time[time_slice2].values\n",
    "date3 = nbar_clean.time[time_slice3].values\n",
    "\n",
    "fig = plt.figure(figsize=(11.69,8.27))\n",
    "gs = gridspec.GridSpec(2, 3)\n",
    "ax1 = plt.subplot(gs[0, 0])\n",
    "ax1 = imshow(scaled1)\n",
    "ax1 = title(pd.to_datetime(date).strftime('%Y-%m-%d'))\n",
    "ax1 = plt.tick_params(axis = 'y', which = 'both', left = 'off', right = 'off', labelright = 'off', labelleft= 'off')\n",
    "ax1 = plt.tick_params(axis = 'x', which = 'both', bottom = 'off', top = 'off', labelbottom = 'off')\n",
    "ax1 = plt.axis('image')\n",
    "#ax1 = plt.plot([x,x], [0, all_ndvi_sorted.shape[1]], 'r')\n",
    "#ax1 = plt.plot([0, all_ndvi_sorted.shape[2]], [y,y], 'r')\n",
    "ax1 = plt.scatter(x=[imagex], y=[y], c='r')\n",
    "ax1 = plt.scatter(x=[imagex2], y=[y], c='b')\n",
    "\n",
    "ax1 = plt.axis('image')\n",
    "\n",
    "\n",
    "\n",
    "ax2 = plt.subplot(gs[0, 1])\n",
    "ax2 = imshow(scaled2)\n",
    "ax2 = title(pd.to_datetime(date2).strftime('%Y-%m-%d'))\n",
    "ax2 = plt.tick_params(axis = 'y', which = 'both', left = 'off', right = 'off', labelright = 'off', labelleft= 'off')\n",
    "ax2 = plt.tick_params(axis = 'x', which = 'both', bottom = 'off', top = 'off', labelbottom = 'off')\n",
    "ax2 = plt.scatter(x=[imagex], y=[y], c='r')\n",
    "ax2 = plt.scatter(x=[imagex2], y=[y], c='b')\n",
    "\n",
    "ax2 = plt.axis('image')\n",
    "\n",
    "ax3 = plt.subplot(gs[0, 2])\n",
    "ax3 = imshow(scaled3)\n",
    "ax3 = title(pd.to_datetime(date3).strftime('%Y-%m-%d'))\n",
    "ax3 = plt.tick_params(axis = 'y', which = 'both', left = 'off', right = 'off', labelright = 'off', labelleft= 'off')\n",
    "ax3 = plt.tick_params(axis = 'x', which = 'both', bottom = 'off', top = 'off', labelbottom = 'off')\n",
    "ax3 = plt.scatter(x=[imagex], y=[y], c='r')\n",
    "ax3 = plt.scatter(x=[imagex2], y=[y], c='b')\n",
    "\n",
    "ax3 = plt.axis('image')\n",
    "\n",
    "plotfirstyear = '1987-01-01'\n",
    "plotlastyear = '2016-12-31'\n",
    "\n",
    "ax4 = plt.subplot(gs[1,:])\n",
    "#ax4 = imshow(rsindex_subs['NDWI'].as_matrix(range(3,len(rsindex_subs['NDVI'].columns))), aspect='auto', vmin=ndmin, vmax=ndmax)\n",
    "ax4 = all_ndvi_sorted.isel(x=[imagex],y=[y]).dropna('time', how = 'any').plot(linestyle= '--', c= 'r', marker = '8', mec = 'b', mfc ='r')\n",
    "ax4 = all_ndvi_sorted.isel(x=[imagex2],y=[y]).dropna('time', how = 'any').plot(linestyle= '--', c= 'b', marker = '8', mec = 'b', mfc ='b')\n",
    "\n",
    "ax4 = plt.axis([plotfirstyear , plotlastyear ,0.1, 0.9])\n"
   ]
  },
  {
   "cell_type": "code",
   "execution_count": null,
   "metadata": {
    "collapsed": true
   },
   "outputs": [],
   "source": []
  },
  {
   "cell_type": "code",
   "execution_count": null,
   "metadata": {
    "collapsed": true
   },
   "outputs": [],
   "source": []
  },
  {
   "cell_type": "code",
   "execution_count": null,
   "metadata": {
    "collapsed": true
   },
   "outputs": [],
   "source": []
  },
  {
   "cell_type": "code",
   "execution_count": null,
   "metadata": {
    "collapsed": true
   },
   "outputs": [],
   "source": []
  }
 ],
 "metadata": {
  "kernelspec": {
   "display_name": "Python 2",
   "language": "python",
   "name": "python2"
  },
  "language_info": {
   "codemirror_mode": {
    "name": "ipython",
    "version": 2
   },
   "file_extension": ".py",
   "mimetype": "text/x-python",
   "name": "python",
   "nbconvert_exporter": "python",
   "pygments_lexer": "ipython2",
   "version": "2.7.12"
  },
  "toc": {
   "toc_cell": false,
   "toc_number_sections": false,
   "toc_threshold": 6,
   "toc_window_display": true
  }
 },
 "nbformat": 4,
 "nbformat_minor": 0
}
